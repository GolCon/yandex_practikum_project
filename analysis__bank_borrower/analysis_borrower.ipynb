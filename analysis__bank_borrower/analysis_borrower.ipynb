{
 "cells": [
  {
   "cell_type": "markdown",
   "metadata": {},
   "source": [
    "## Исследование надёжности заёмщиков\n",
    "\n",
    "Заказчик — кредитный отдел банка. Нужно разобраться, влияет ли семейное положение и количество детей клиента на факт погашения кредита в срок. Входные данные от банка — статистика о платёжеспособности клиентов.\n",
    "\n",
    "Результаты исследования будут учтены при построении модели **кредитного скоринга** — специальной системы, которая оценивает способность потенциального заёмщика вернуть кредит банку.\n",
    "\n",
    "Анализ производится с данными в формате CSV впредставленные в виде датафрэйм структуры. В данных находится информация о пользователях услуг кредитования. Данные имеют пропуски, не нормированных значения и не котегорезированная информация.\n",
    "Предполагается произвести предобработку данных для дальнейшего удобства анализа и сгруппировать данные чтобы ответить на поставленные вопросы.\n"
   ]
  },
  {
   "cell_type": "markdown",
   "metadata": {},
   "source": [
    "<a id=\"id0\"></a>\n",
    "Содержание: \n",
    "\n",
    "[1. **Шаг 1. Откройте файл с данными и изучите общую информацию.**](#id1)<br>\n",
    "[2. **Шаг 2. Предобработка данных.**](#id2)<br>\n",
    " [ --обработка пропусков](#id3)<br>\n",
    " [ --замена типа данных](#id4)<br>\n",
    " [ --обработка дубликатов](#id5)<br>\n",
    " [ --лемматизация](#id6)<br>\n",
    " [ --категоризация данных](#id7)<br>\n",
    "[3. **Шаг 3. Ответьте на вопросы**](#id8)<br>\n",
    "[4. **Шаг 4. Общий вывод**](#id9)<br>\n",
    "[**Чек-лист готовности проекта**](#id10)<br>"
   ]
  },
  {
   "cell_type": "markdown",
   "metadata": {},
   "source": [
    "<a id=\"id1\"></a>\n",
    "### Шаг 1. Откройте файл с данными и изучите общую информацию. \n",
    "[к содержанию](#id0)<br>"
   ]
  },
  {
   "cell_type": "code",
   "execution_count": 1,
   "metadata": {
    "scrolled": false
   },
   "outputs": [
    {
     "name": "stdout",
     "output_type": "stream",
     "text": [
      "<class 'pandas.core.frame.DataFrame'>\n",
      "RangeIndex: 21525 entries, 0 to 21524\n",
      "Data columns (total 12 columns):\n",
      "children            21525 non-null int64\n",
      "days_employed       19351 non-null float64\n",
      "dob_years           21525 non-null int64\n",
      "education           21525 non-null object\n",
      "education_id        21525 non-null int64\n",
      "family_status       21525 non-null object\n",
      "family_status_id    21525 non-null int64\n",
      "gender              21525 non-null object\n",
      "income_type         21525 non-null object\n",
      "debt                21525 non-null int64\n",
      "total_income        19351 non-null float64\n",
      "purpose             21525 non-null object\n",
      "dtypes: float64(2), int64(5), object(5)\n",
      "memory usage: 2.0+ MB\n"
     ]
    },
    {
     "data": {
      "text/html": [
       "<div>\n",
       "<style scoped>\n",
       "    .dataframe tbody tr th:only-of-type {\n",
       "        vertical-align: middle;\n",
       "    }\n",
       "\n",
       "    .dataframe tbody tr th {\n",
       "        vertical-align: top;\n",
       "    }\n",
       "\n",
       "    .dataframe thead th {\n",
       "        text-align: right;\n",
       "    }\n",
       "</style>\n",
       "<table border=\"1\" class=\"dataframe\">\n",
       "  <thead>\n",
       "    <tr style=\"text-align: right;\">\n",
       "      <th></th>\n",
       "      <th>children</th>\n",
       "      <th>days_employed</th>\n",
       "      <th>dob_years</th>\n",
       "      <th>education</th>\n",
       "      <th>education_id</th>\n",
       "      <th>family_status</th>\n",
       "      <th>family_status_id</th>\n",
       "      <th>gender</th>\n",
       "      <th>income_type</th>\n",
       "      <th>debt</th>\n",
       "      <th>total_income</th>\n",
       "      <th>purpose</th>\n",
       "    </tr>\n",
       "  </thead>\n",
       "  <tbody>\n",
       "    <tr>\n",
       "      <td>0</td>\n",
       "      <td>1</td>\n",
       "      <td>-8437.673028</td>\n",
       "      <td>42</td>\n",
       "      <td>высшее</td>\n",
       "      <td>0</td>\n",
       "      <td>женат / замужем</td>\n",
       "      <td>0</td>\n",
       "      <td>F</td>\n",
       "      <td>сотрудник</td>\n",
       "      <td>0</td>\n",
       "      <td>253875.639453</td>\n",
       "      <td>покупка жилья</td>\n",
       "    </tr>\n",
       "    <tr>\n",
       "      <td>1</td>\n",
       "      <td>1</td>\n",
       "      <td>-4024.803754</td>\n",
       "      <td>36</td>\n",
       "      <td>среднее</td>\n",
       "      <td>1</td>\n",
       "      <td>женат / замужем</td>\n",
       "      <td>0</td>\n",
       "      <td>F</td>\n",
       "      <td>сотрудник</td>\n",
       "      <td>0</td>\n",
       "      <td>112080.014102</td>\n",
       "      <td>приобретение автомобиля</td>\n",
       "    </tr>\n",
       "    <tr>\n",
       "      <td>2</td>\n",
       "      <td>0</td>\n",
       "      <td>-5623.422610</td>\n",
       "      <td>33</td>\n",
       "      <td>Среднее</td>\n",
       "      <td>1</td>\n",
       "      <td>женат / замужем</td>\n",
       "      <td>0</td>\n",
       "      <td>M</td>\n",
       "      <td>сотрудник</td>\n",
       "      <td>0</td>\n",
       "      <td>145885.952297</td>\n",
       "      <td>покупка жилья</td>\n",
       "    </tr>\n",
       "    <tr>\n",
       "      <td>3</td>\n",
       "      <td>3</td>\n",
       "      <td>-4124.747207</td>\n",
       "      <td>32</td>\n",
       "      <td>среднее</td>\n",
       "      <td>1</td>\n",
       "      <td>женат / замужем</td>\n",
       "      <td>0</td>\n",
       "      <td>M</td>\n",
       "      <td>сотрудник</td>\n",
       "      <td>0</td>\n",
       "      <td>267628.550329</td>\n",
       "      <td>дополнительное образование</td>\n",
       "    </tr>\n",
       "    <tr>\n",
       "      <td>4</td>\n",
       "      <td>0</td>\n",
       "      <td>340266.072047</td>\n",
       "      <td>53</td>\n",
       "      <td>среднее</td>\n",
       "      <td>1</td>\n",
       "      <td>гражданский брак</td>\n",
       "      <td>1</td>\n",
       "      <td>F</td>\n",
       "      <td>пенсионер</td>\n",
       "      <td>0</td>\n",
       "      <td>158616.077870</td>\n",
       "      <td>сыграть свадьбу</td>\n",
       "    </tr>\n",
       "  </tbody>\n",
       "</table>\n",
       "</div>"
      ],
      "text/plain": [
       "   children  days_employed  dob_years education  education_id  \\\n",
       "0         1   -8437.673028         42    высшее             0   \n",
       "1         1   -4024.803754         36   среднее             1   \n",
       "2         0   -5623.422610         33   Среднее             1   \n",
       "3         3   -4124.747207         32   среднее             1   \n",
       "4         0  340266.072047         53   среднее             1   \n",
       "\n",
       "      family_status  family_status_id gender income_type  debt   total_income  \\\n",
       "0   женат / замужем                 0      F   сотрудник     0  253875.639453   \n",
       "1   женат / замужем                 0      F   сотрудник     0  112080.014102   \n",
       "2   женат / замужем                 0      M   сотрудник     0  145885.952297   \n",
       "3   женат / замужем                 0      M   сотрудник     0  267628.550329   \n",
       "4  гражданский брак                 1      F   пенсионер     0  158616.077870   \n",
       "\n",
       "                      purpose  \n",
       "0               покупка жилья  \n",
       "1     приобретение автомобиля  \n",
       "2               покупка жилья  \n",
       "3  дополнительное образование  \n",
       "4             сыграть свадьбу  "
      ]
     },
     "execution_count": 1,
     "metadata": {},
     "output_type": "execute_result"
    }
   ],
   "source": [
    "import pandas as pd\n",
    "from pymystem3 import Mystem\n",
    "from nltk.stem import SnowballStemmer\n",
    "from collections import Counter\n",
    "try:\n",
    "    #df = pd.read_csv('C:\\projects\\data.csv')\n",
    "    df = pd.read_csv(r'/datasets/data.csv') # Код ревьюера\n",
    "except:\n",
    "    print('Файл по указанному пути не найден')\n",
    "df.info()\n",
    "df.head()"
   ]
  },
  {
   "cell_type": "markdown",
   "metadata": {},
   "source": [
    "### Вывод \n",
    "1 Имеются пропуски в столбцах: общего трудового стажа(days_employed) и ежемесячного дохода(total_income).\n",
    "\n",
    "2 В столбце образования(education) имеются данные с разным регистром\n",
    "\n",
    "3 В столбце целей(purpose) имеются описания не приведенные к конкретным категориям\n",
    "\n",
    "4 В столбце с возрастом имеются значения равные нулю, таких значений меньше процента относительно всей таблицы, поэтому данные можно откинуть без вреда.\n",
    "\n",
    "5 В столбце с количеством детей имеются отрицательные значения и значения равные 20"
   ]
  },
  {
   "cell_type": "markdown",
   "metadata": {},
   "source": [
    "<a id=\"id2\"></a>\n",
    "### Шаг 2. Предобработка данных\n",
    "[к содержанию](#id0)<br>"
   ]
  },
  {
   "cell_type": "markdown",
   "metadata": {},
   "source": [
    "<a id=\"id3\"></a>\n",
    "### Обработка пропусков\n",
    "[к содержанию](#id0)<br>"
   ]
  },
  {
   "cell_type": "markdown",
   "metadata": {},
   "source": [
    "- Строки имеющие отрицательные значения в столбце количества детей будут удалены, тк количество меньше одного процента относительно всех данных. Строки со значениями 20 в столбце с количеством детей также меньше процента относительно всех данных, однако здесь вероятна, пользовательская ошибка заполнения формы, тк на клавиатуре цифры '2' и '0' на соседних кнопках и одной вертикали, поэтому значения будут заменены на 2.\n",
    "- Строки имеющие нулевые значения в графе возраста будут удалены, тк не представляется возможности возместить за счет других данных или обогатить за счет сторонних источников, также количество этих данных не привышает 1%, поэтому удаление не повлияет на результат анализа."
   ]
  },
  {
   "cell_type": "code",
   "execution_count": 2,
   "metadata": {},
   "outputs": [
    {
     "name": "stdout",
     "output_type": "stream",
     "text": [
      "Количество пропусков данных типа NaN в столбцах: \n",
      " -общего трудового стажа(days_employed), равно 2161 \n",
      " -ежемесячного дохода(total_income), равно 2161\n",
      "\n"
     ]
    }
   ],
   "source": [
    "if df[df['dob_years'] == 0]['dob_years'].count() / df.shape[0] *100 <1: #условие что нулевых значений меньше одного процента во всей табл.\n",
    "    df.drop(df[df['dob_years'] == 0].index,inplace = True) #удаление строк с нулевыми значениями в столбце возраста \n",
    "else: print('Нулевых дначений больше одного процента')    \n",
    "df.drop(df[df['children'] < 0].index,inplace = True) #удаление строк с отрицательными значениями в столбце количества детей \n",
    "df.loc[df['children'] == 20,'children']= 2 #исправление ошибки 20 на 2\n",
    "\n",
    "count_NaN_days_employed = df['days_employed'].isnull().sum()\n",
    "count_NaN_total_income = df['total_income'].isnull().sum()\n",
    "print('Количество пропусков данных типа NaN в столбцах: \\n -общего трудового стажа(days_employed), равно',\n",
    "      count_NaN_days_employed, \n",
    "      '\\n -ежемесячного дохода(total_income), равно',\n",
    "      count_NaN_total_income)\n",
    "if count_NaN_total_income == count_NaN_days_employed:\n",
    "    print()"
   ]
  },
  {
   "cell_type": "markdown",
   "metadata": {},
   "source": [
    "Количество пропущенных данных одинаково, имеется предположение, что пропуски двух столбцов находятся в одних и тех же строках, проверяем:"
   ]
  },
  {
   "cell_type": "code",
   "execution_count": 3,
   "metadata": {},
   "outputs": [
    {
     "name": "stdout",
     "output_type": "stream",
     "text": [
      "21377\n"
     ]
    },
    {
     "name": "stderr",
     "output_type": "stream",
     "text": [
      "/opt/conda/lib/python3.7/site-packages/pandas/core/ops/__init__.py:1115: FutureWarning: elementwise comparison failed; returning scalar instead, but in the future will perform elementwise comparison\n",
      "  result = method(y)\n"
     ]
    }
   ],
   "source": [
    "print(((df['days_employed'] == 'NaN') == (df['total_income'] == 'NaN')).sum())"
   ]
  },
  {
   "cell_type": "markdown",
   "metadata": {},
   "source": [
    "Предположение оказалось верным, NaN  обоих столбцов находятся на одних и тех же строках. Далее рассмотрим таблицу состоящую и строк с пропущенными значениями, что бы выяить возможные закономерности."
   ]
  },
  {
   "cell_type": "code",
   "execution_count": 4,
   "metadata": {},
   "outputs": [
    {
     "data": {
      "text/html": [
       "<div>\n",
       "<style scoped>\n",
       "    .dataframe tbody tr th:only-of-type {\n",
       "        vertical-align: middle;\n",
       "    }\n",
       "\n",
       "    .dataframe tbody tr th {\n",
       "        vertical-align: top;\n",
       "    }\n",
       "\n",
       "    .dataframe thead th {\n",
       "        text-align: right;\n",
       "    }\n",
       "</style>\n",
       "<table border=\"1\" class=\"dataframe\">\n",
       "  <thead>\n",
       "    <tr style=\"text-align: right;\">\n",
       "      <th></th>\n",
       "      <th>children</th>\n",
       "      <th>days_employed</th>\n",
       "      <th>dob_years</th>\n",
       "      <th>education</th>\n",
       "      <th>education_id</th>\n",
       "      <th>family_status</th>\n",
       "      <th>family_status_id</th>\n",
       "      <th>gender</th>\n",
       "      <th>income_type</th>\n",
       "      <th>debt</th>\n",
       "      <th>total_income</th>\n",
       "      <th>purpose</th>\n",
       "    </tr>\n",
       "  </thead>\n",
       "  <tbody>\n",
       "    <tr>\n",
       "      <td>12</td>\n",
       "      <td>0</td>\n",
       "      <td>NaN</td>\n",
       "      <td>65</td>\n",
       "      <td>среднее</td>\n",
       "      <td>1</td>\n",
       "      <td>гражданский брак</td>\n",
       "      <td>1</td>\n",
       "      <td>M</td>\n",
       "      <td>пенсионер</td>\n",
       "      <td>0</td>\n",
       "      <td>NaN</td>\n",
       "      <td>сыграть свадьбу</td>\n",
       "    </tr>\n",
       "    <tr>\n",
       "      <td>26</td>\n",
       "      <td>0</td>\n",
       "      <td>NaN</td>\n",
       "      <td>41</td>\n",
       "      <td>среднее</td>\n",
       "      <td>1</td>\n",
       "      <td>женат / замужем</td>\n",
       "      <td>0</td>\n",
       "      <td>M</td>\n",
       "      <td>госслужащий</td>\n",
       "      <td>0</td>\n",
       "      <td>NaN</td>\n",
       "      <td>образование</td>\n",
       "    </tr>\n",
       "    <tr>\n",
       "      <td>29</td>\n",
       "      <td>0</td>\n",
       "      <td>NaN</td>\n",
       "      <td>63</td>\n",
       "      <td>среднее</td>\n",
       "      <td>1</td>\n",
       "      <td>Не женат / не замужем</td>\n",
       "      <td>4</td>\n",
       "      <td>F</td>\n",
       "      <td>пенсионер</td>\n",
       "      <td>0</td>\n",
       "      <td>NaN</td>\n",
       "      <td>строительство жилой недвижимости</td>\n",
       "    </tr>\n",
       "    <tr>\n",
       "      <td>41</td>\n",
       "      <td>0</td>\n",
       "      <td>NaN</td>\n",
       "      <td>50</td>\n",
       "      <td>среднее</td>\n",
       "      <td>1</td>\n",
       "      <td>женат / замужем</td>\n",
       "      <td>0</td>\n",
       "      <td>F</td>\n",
       "      <td>госслужащий</td>\n",
       "      <td>0</td>\n",
       "      <td>NaN</td>\n",
       "      <td>сделка с подержанным автомобилем</td>\n",
       "    </tr>\n",
       "    <tr>\n",
       "      <td>55</td>\n",
       "      <td>0</td>\n",
       "      <td>NaN</td>\n",
       "      <td>54</td>\n",
       "      <td>среднее</td>\n",
       "      <td>1</td>\n",
       "      <td>гражданский брак</td>\n",
       "      <td>1</td>\n",
       "      <td>F</td>\n",
       "      <td>пенсионер</td>\n",
       "      <td>1</td>\n",
       "      <td>NaN</td>\n",
       "      <td>сыграть свадьбу</td>\n",
       "    </tr>\n",
       "    <tr>\n",
       "      <td>65</td>\n",
       "      <td>0</td>\n",
       "      <td>NaN</td>\n",
       "      <td>21</td>\n",
       "      <td>среднее</td>\n",
       "      <td>1</td>\n",
       "      <td>Не женат / не замужем</td>\n",
       "      <td>4</td>\n",
       "      <td>M</td>\n",
       "      <td>компаньон</td>\n",
       "      <td>0</td>\n",
       "      <td>NaN</td>\n",
       "      <td>операции с коммерческой недвижимостью</td>\n",
       "    </tr>\n",
       "    <tr>\n",
       "      <td>67</td>\n",
       "      <td>0</td>\n",
       "      <td>NaN</td>\n",
       "      <td>52</td>\n",
       "      <td>высшее</td>\n",
       "      <td>0</td>\n",
       "      <td>женат / замужем</td>\n",
       "      <td>0</td>\n",
       "      <td>F</td>\n",
       "      <td>пенсионер</td>\n",
       "      <td>0</td>\n",
       "      <td>NaN</td>\n",
       "      <td>покупка жилья для семьи</td>\n",
       "    </tr>\n",
       "    <tr>\n",
       "      <td>72</td>\n",
       "      <td>1</td>\n",
       "      <td>NaN</td>\n",
       "      <td>32</td>\n",
       "      <td>высшее</td>\n",
       "      <td>0</td>\n",
       "      <td>женат / замужем</td>\n",
       "      <td>0</td>\n",
       "      <td>M</td>\n",
       "      <td>госслужащий</td>\n",
       "      <td>0</td>\n",
       "      <td>NaN</td>\n",
       "      <td>операции с коммерческой недвижимостью</td>\n",
       "    </tr>\n",
       "    <tr>\n",
       "      <td>82</td>\n",
       "      <td>2</td>\n",
       "      <td>NaN</td>\n",
       "      <td>50</td>\n",
       "      <td>высшее</td>\n",
       "      <td>0</td>\n",
       "      <td>женат / замужем</td>\n",
       "      <td>0</td>\n",
       "      <td>F</td>\n",
       "      <td>сотрудник</td>\n",
       "      <td>0</td>\n",
       "      <td>NaN</td>\n",
       "      <td>жилье</td>\n",
       "    </tr>\n",
       "    <tr>\n",
       "      <td>83</td>\n",
       "      <td>0</td>\n",
       "      <td>NaN</td>\n",
       "      <td>52</td>\n",
       "      <td>среднее</td>\n",
       "      <td>1</td>\n",
       "      <td>женат / замужем</td>\n",
       "      <td>0</td>\n",
       "      <td>M</td>\n",
       "      <td>сотрудник</td>\n",
       "      <td>0</td>\n",
       "      <td>NaN</td>\n",
       "      <td>жилье</td>\n",
       "    </tr>\n",
       "    <tr>\n",
       "      <td>90</td>\n",
       "      <td>2</td>\n",
       "      <td>NaN</td>\n",
       "      <td>35</td>\n",
       "      <td>высшее</td>\n",
       "      <td>0</td>\n",
       "      <td>женат / замужем</td>\n",
       "      <td>0</td>\n",
       "      <td>F</td>\n",
       "      <td>сотрудник</td>\n",
       "      <td>0</td>\n",
       "      <td>NaN</td>\n",
       "      <td>операции с жильем</td>\n",
       "    </tr>\n",
       "    <tr>\n",
       "      <td>94</td>\n",
       "      <td>1</td>\n",
       "      <td>NaN</td>\n",
       "      <td>34</td>\n",
       "      <td>высшее</td>\n",
       "      <td>0</td>\n",
       "      <td>гражданский брак</td>\n",
       "      <td>1</td>\n",
       "      <td>F</td>\n",
       "      <td>компаньон</td>\n",
       "      <td>0</td>\n",
       "      <td>NaN</td>\n",
       "      <td>на проведение свадьбы</td>\n",
       "    </tr>\n",
       "    <tr>\n",
       "      <td>96</td>\n",
       "      <td>0</td>\n",
       "      <td>NaN</td>\n",
       "      <td>44</td>\n",
       "      <td>СРЕДНЕЕ</td>\n",
       "      <td>1</td>\n",
       "      <td>женат / замужем</td>\n",
       "      <td>0</td>\n",
       "      <td>F</td>\n",
       "      <td>сотрудник</td>\n",
       "      <td>0</td>\n",
       "      <td>NaN</td>\n",
       "      <td>покупка жилой недвижимости</td>\n",
       "    </tr>\n",
       "    <tr>\n",
       "      <td>97</td>\n",
       "      <td>0</td>\n",
       "      <td>NaN</td>\n",
       "      <td>47</td>\n",
       "      <td>высшее</td>\n",
       "      <td>0</td>\n",
       "      <td>женат / замужем</td>\n",
       "      <td>0</td>\n",
       "      <td>F</td>\n",
       "      <td>сотрудник</td>\n",
       "      <td>0</td>\n",
       "      <td>NaN</td>\n",
       "      <td>профильное образование</td>\n",
       "    </tr>\n",
       "    <tr>\n",
       "      <td>120</td>\n",
       "      <td>0</td>\n",
       "      <td>NaN</td>\n",
       "      <td>46</td>\n",
       "      <td>среднее</td>\n",
       "      <td>1</td>\n",
       "      <td>женат / замужем</td>\n",
       "      <td>0</td>\n",
       "      <td>F</td>\n",
       "      <td>сотрудник</td>\n",
       "      <td>0</td>\n",
       "      <td>NaN</td>\n",
       "      <td>высшее образование</td>\n",
       "    </tr>\n",
       "  </tbody>\n",
       "</table>\n",
       "</div>"
      ],
      "text/plain": [
       "     children  days_employed  dob_years education  education_id  \\\n",
       "12          0            NaN         65   среднее             1   \n",
       "26          0            NaN         41   среднее             1   \n",
       "29          0            NaN         63   среднее             1   \n",
       "41          0            NaN         50   среднее             1   \n",
       "55          0            NaN         54   среднее             1   \n",
       "65          0            NaN         21   среднее             1   \n",
       "67          0            NaN         52    высшее             0   \n",
       "72          1            NaN         32    высшее             0   \n",
       "82          2            NaN         50    высшее             0   \n",
       "83          0            NaN         52   среднее             1   \n",
       "90          2            NaN         35    высшее             0   \n",
       "94          1            NaN         34    высшее             0   \n",
       "96          0            NaN         44   СРЕДНЕЕ             1   \n",
       "97          0            NaN         47    высшее             0   \n",
       "120         0            NaN         46   среднее             1   \n",
       "\n",
       "             family_status  family_status_id gender  income_type  debt  \\\n",
       "12        гражданский брак                 1      M    пенсионер     0   \n",
       "26         женат / замужем                 0      M  госслужащий     0   \n",
       "29   Не женат / не замужем                 4      F    пенсионер     0   \n",
       "41         женат / замужем                 0      F  госслужащий     0   \n",
       "55        гражданский брак                 1      F    пенсионер     1   \n",
       "65   Не женат / не замужем                 4      M    компаньон     0   \n",
       "67         женат / замужем                 0      F    пенсионер     0   \n",
       "72         женат / замужем                 0      M  госслужащий     0   \n",
       "82         женат / замужем                 0      F    сотрудник     0   \n",
       "83         женат / замужем                 0      M    сотрудник     0   \n",
       "90         женат / замужем                 0      F    сотрудник     0   \n",
       "94        гражданский брак                 1      F    компаньон     0   \n",
       "96         женат / замужем                 0      F    сотрудник     0   \n",
       "97         женат / замужем                 0      F    сотрудник     0   \n",
       "120        женат / замужем                 0      F    сотрудник     0   \n",
       "\n",
       "     total_income                                purpose  \n",
       "12            NaN                        сыграть свадьбу  \n",
       "26            NaN                            образование  \n",
       "29            NaN       строительство жилой недвижимости  \n",
       "41            NaN       сделка с подержанным автомобилем  \n",
       "55            NaN                        сыграть свадьбу  \n",
       "65            NaN  операции с коммерческой недвижимостью  \n",
       "67            NaN                покупка жилья для семьи  \n",
       "72            NaN  операции с коммерческой недвижимостью  \n",
       "82            NaN                                  жилье  \n",
       "83            NaN                                  жилье  \n",
       "90            NaN                      операции с жильем  \n",
       "94            NaN                  на проведение свадьбы  \n",
       "96            NaN             покупка жилой недвижимости  \n",
       "97            NaN                 профильное образование  \n",
       "120           NaN                     высшее образование  "
      ]
     },
     "execution_count": 4,
     "metadata": {},
     "output_type": "execute_result"
    }
   ],
   "source": [
    "df[df['days_employed'].isnull()].head(15)"
   ]
  },
  {
   "cell_type": "markdown",
   "metadata": {},
   "source": [
    "Проанализировав выборку строк, с отсутствующими данными, закономенрности относительно данных в других столбцах не выявляны."
   ]
  },
  {
   "cell_type": "code",
   "execution_count": 5,
   "metadata": {},
   "outputs": [
    {
     "name": "stdout",
     "output_type": "stream",
     "text": [
      "Процент пропущеных значений ко всей таблице, составляет 10%\n"
     ]
    }
   ],
   "source": [
    "print('Процент пропущеных значений ко всей таблице, составляет {:.0%}'.format(count_NaN_days_employed/df.shape[0]))"
   ]
  },
  {
   "cell_type": "markdown",
   "metadata": {},
   "source": [
    "Это значительная часть всех данных, поэтому отбросить их, не представляется возможным.\n",
    "Причинами отсутствия стажа и зароботной платы, у клиентов могут являться сложившиеся жизненные обстоятельства, например, жены военнослужащих не могут найти себе работу по причине ее отсутствия в закрытых гарнизонах, и они вынуждены вести домашнее хозяйство, которое не считается стажем. Также проблемы с трудоустройством существуют в северных и отдаленных регионах.\n",
    "\n",
    "Однако, выборка людей с пропусками в данных имеет равновесие в уровне образования как высшего, так и среднего, что не исключает предыдущего предположения, но больше склоняет в сторону того, что данные были утеряны на этапе формирования таблицы или сбора данных, подтверждая это наличие пропусков в одних и тех же столбцах. \n",
    "\n",
    "Прибегним к небольшому допущению, что данные были собраны в одном густонаселенном регионе, тогда  согласно статье 'Анализ влияния уровня образования на заработную плату работающих: территориальный аспект' Устиновой К. А справедливо следующее, что имеется зависимость между уровнем образования, профессией и уровнем дохода восполнение пропусков будет производится за счет средних значений по категориям профессий и уровню образования, такой путь выбран для повышения точности значений, но тк в столбце days_employed значения не нормированы, временно производится замена на 0. "
   ]
  },
  {
   "cell_type": "code",
   "execution_count": 6,
   "metadata": {},
   "outputs": [
    {
     "name": "stdout",
     "output_type": "stream",
     "text": [
      "<class 'pandas.core.frame.DataFrame'>\n",
      "Int64Index: 21377 entries, 0 to 21524\n",
      "Data columns (total 12 columns):\n",
      "children            21377 non-null int64\n",
      "days_employed       21377 non-null float64\n",
      "dob_years           21377 non-null int64\n",
      "education           21377 non-null object\n",
      "education_id        21377 non-null int64\n",
      "family_status       21377 non-null object\n",
      "family_status_id    21377 non-null int64\n",
      "gender              21377 non-null object\n",
      "income_type         21377 non-null object\n",
      "debt                21377 non-null int64\n",
      "total_income        21377 non-null float64\n",
      "purpose             21377 non-null object\n",
      "dtypes: float64(2), int64(5), object(5)\n",
      "memory usage: 2.1+ MB\n",
      "None\n"
     ]
    }
   ],
   "source": [
    "df['education'] = df['education'].str.lower() #приведение букв к общему регистру\n",
    "for i in ['total_income','days_employed']:\n",
    "    df[i] = df[i].fillna(0)         \n",
    "print(df.info())"
   ]
  },
  {
   "cell_type": "markdown",
   "metadata": {},
   "source": [
    "Значения NaN, были успешно заменены, однако  в столбце days_employed имеются отрицательные и экстримально высокие значения. Рассмотрим их."
   ]
  },
  {
   "cell_type": "code",
   "execution_count": 7,
   "metadata": {},
   "outputs": [
    {
     "data": {
      "text/html": [
       "<div>\n",
       "<style scoped>\n",
       "    .dataframe tbody tr th:only-of-type {\n",
       "        vertical-align: middle;\n",
       "    }\n",
       "\n",
       "    .dataframe tbody tr th {\n",
       "        vertical-align: top;\n",
       "    }\n",
       "\n",
       "    .dataframe thead th {\n",
       "        text-align: right;\n",
       "    }\n",
       "</style>\n",
       "<table border=\"1\" class=\"dataframe\">\n",
       "  <thead>\n",
       "    <tr style=\"text-align: right;\">\n",
       "      <th></th>\n",
       "      <th>children</th>\n",
       "      <th>days_employed</th>\n",
       "      <th>dob_years</th>\n",
       "      <th>education</th>\n",
       "      <th>education_id</th>\n",
       "      <th>family_status</th>\n",
       "      <th>family_status_id</th>\n",
       "      <th>gender</th>\n",
       "      <th>income_type</th>\n",
       "      <th>debt</th>\n",
       "      <th>total_income</th>\n",
       "      <th>purpose</th>\n",
       "    </tr>\n",
       "  </thead>\n",
       "  <tbody>\n",
       "    <tr>\n",
       "      <td>0</td>\n",
       "      <td>1</td>\n",
       "      <td>-8437.673028</td>\n",
       "      <td>42</td>\n",
       "      <td>высшее</td>\n",
       "      <td>0</td>\n",
       "      <td>женат / замужем</td>\n",
       "      <td>0</td>\n",
       "      <td>F</td>\n",
       "      <td>сотрудник</td>\n",
       "      <td>0</td>\n",
       "      <td>253875.639453</td>\n",
       "      <td>покупка жилья</td>\n",
       "    </tr>\n",
       "    <tr>\n",
       "      <td>1</td>\n",
       "      <td>1</td>\n",
       "      <td>-4024.803754</td>\n",
       "      <td>36</td>\n",
       "      <td>среднее</td>\n",
       "      <td>1</td>\n",
       "      <td>женат / замужем</td>\n",
       "      <td>0</td>\n",
       "      <td>F</td>\n",
       "      <td>сотрудник</td>\n",
       "      <td>0</td>\n",
       "      <td>112080.014102</td>\n",
       "      <td>приобретение автомобиля</td>\n",
       "    </tr>\n",
       "    <tr>\n",
       "      <td>2</td>\n",
       "      <td>0</td>\n",
       "      <td>-5623.422610</td>\n",
       "      <td>33</td>\n",
       "      <td>среднее</td>\n",
       "      <td>1</td>\n",
       "      <td>женат / замужем</td>\n",
       "      <td>0</td>\n",
       "      <td>M</td>\n",
       "      <td>сотрудник</td>\n",
       "      <td>0</td>\n",
       "      <td>145885.952297</td>\n",
       "      <td>покупка жилья</td>\n",
       "    </tr>\n",
       "    <tr>\n",
       "      <td>3</td>\n",
       "      <td>3</td>\n",
       "      <td>-4124.747207</td>\n",
       "      <td>32</td>\n",
       "      <td>среднее</td>\n",
       "      <td>1</td>\n",
       "      <td>женат / замужем</td>\n",
       "      <td>0</td>\n",
       "      <td>M</td>\n",
       "      <td>сотрудник</td>\n",
       "      <td>0</td>\n",
       "      <td>267628.550329</td>\n",
       "      <td>дополнительное образование</td>\n",
       "    </tr>\n",
       "    <tr>\n",
       "      <td>4</td>\n",
       "      <td>0</td>\n",
       "      <td>340266.072047</td>\n",
       "      <td>53</td>\n",
       "      <td>среднее</td>\n",
       "      <td>1</td>\n",
       "      <td>гражданский брак</td>\n",
       "      <td>1</td>\n",
       "      <td>F</td>\n",
       "      <td>пенсионер</td>\n",
       "      <td>0</td>\n",
       "      <td>158616.077870</td>\n",
       "      <td>сыграть свадьбу</td>\n",
       "    </tr>\n",
       "  </tbody>\n",
       "</table>\n",
       "</div>"
      ],
      "text/plain": [
       "   children  days_employed  dob_years education  education_id  \\\n",
       "0         1   -8437.673028         42    высшее             0   \n",
       "1         1   -4024.803754         36   среднее             1   \n",
       "2         0   -5623.422610         33   среднее             1   \n",
       "3         3   -4124.747207         32   среднее             1   \n",
       "4         0  340266.072047         53   среднее             1   \n",
       "\n",
       "      family_status  family_status_id gender income_type  debt   total_income  \\\n",
       "0   женат / замужем                 0      F   сотрудник     0  253875.639453   \n",
       "1   женат / замужем                 0      F   сотрудник     0  112080.014102   \n",
       "2   женат / замужем                 0      M   сотрудник     0  145885.952297   \n",
       "3   женат / замужем                 0      M   сотрудник     0  267628.550329   \n",
       "4  гражданский брак                 1      F   пенсионер     0  158616.077870   \n",
       "\n",
       "                      purpose  \n",
       "0               покупка жилья  \n",
       "1     приобретение автомобиля  \n",
       "2               покупка жилья  \n",
       "3  дополнительное образование  \n",
       "4             сыграть свадьбу  "
      ]
     },
     "execution_count": 7,
     "metadata": {},
     "output_type": "execute_result"
    }
   ],
   "source": [
    "df.head()"
   ]
  },
  {
   "cell_type": "markdown",
   "metadata": {},
   "source": [
    "Экстремальные значения,  вероятней всего указаны в часах тк. при разделении на 24 получаются вполне сопостовимые велечины с остальными значениями, взятыми по модулю. Что касается значенний взятых со знаком минус, то предполагаю это сделанно намеренно, чтобы разделить стаж указанный в часах со стажем указанный днях, тк положительных соразмерных значений в таблице не имеется.\n",
    "Далее стаж приводятся к общей размерности -количеству дней."
   ]
  },
  {
   "cell_type": "code",
   "execution_count": 8,
   "metadata": {},
   "outputs": [
    {
     "data": {
      "text/html": [
       "<div>\n",
       "<style scoped>\n",
       "    .dataframe tbody tr th:only-of-type {\n",
       "        vertical-align: middle;\n",
       "    }\n",
       "\n",
       "    .dataframe tbody tr th {\n",
       "        vertical-align: top;\n",
       "    }\n",
       "\n",
       "    .dataframe thead th {\n",
       "        text-align: right;\n",
       "    }\n",
       "</style>\n",
       "<table border=\"1\" class=\"dataframe\">\n",
       "  <thead>\n",
       "    <tr style=\"text-align: right;\">\n",
       "      <th></th>\n",
       "      <th>children</th>\n",
       "      <th>days_employed</th>\n",
       "      <th>dob_years</th>\n",
       "      <th>education</th>\n",
       "      <th>education_id</th>\n",
       "      <th>family_status</th>\n",
       "      <th>family_status_id</th>\n",
       "      <th>gender</th>\n",
       "      <th>income_type</th>\n",
       "      <th>debt</th>\n",
       "      <th>total_income</th>\n",
       "      <th>purpose</th>\n",
       "    </tr>\n",
       "  </thead>\n",
       "  <tbody>\n",
       "    <tr>\n",
       "      <td>0</td>\n",
       "      <td>1</td>\n",
       "      <td>8437.673028</td>\n",
       "      <td>42</td>\n",
       "      <td>высшее</td>\n",
       "      <td>0</td>\n",
       "      <td>женат / замужем</td>\n",
       "      <td>0</td>\n",
       "      <td>F</td>\n",
       "      <td>сотрудник</td>\n",
       "      <td>0</td>\n",
       "      <td>253875.639453</td>\n",
       "      <td>покупка жилья</td>\n",
       "    </tr>\n",
       "    <tr>\n",
       "      <td>1</td>\n",
       "      <td>1</td>\n",
       "      <td>4024.803754</td>\n",
       "      <td>36</td>\n",
       "      <td>среднее</td>\n",
       "      <td>1</td>\n",
       "      <td>женат / замужем</td>\n",
       "      <td>0</td>\n",
       "      <td>F</td>\n",
       "      <td>сотрудник</td>\n",
       "      <td>0</td>\n",
       "      <td>112080.014102</td>\n",
       "      <td>приобретение автомобиля</td>\n",
       "    </tr>\n",
       "    <tr>\n",
       "      <td>2</td>\n",
       "      <td>0</td>\n",
       "      <td>5623.422610</td>\n",
       "      <td>33</td>\n",
       "      <td>среднее</td>\n",
       "      <td>1</td>\n",
       "      <td>женат / замужем</td>\n",
       "      <td>0</td>\n",
       "      <td>M</td>\n",
       "      <td>сотрудник</td>\n",
       "      <td>0</td>\n",
       "      <td>145885.952297</td>\n",
       "      <td>покупка жилья</td>\n",
       "    </tr>\n",
       "    <tr>\n",
       "      <td>3</td>\n",
       "      <td>3</td>\n",
       "      <td>4124.747207</td>\n",
       "      <td>32</td>\n",
       "      <td>среднее</td>\n",
       "      <td>1</td>\n",
       "      <td>женат / замужем</td>\n",
       "      <td>0</td>\n",
       "      <td>M</td>\n",
       "      <td>сотрудник</td>\n",
       "      <td>0</td>\n",
       "      <td>267628.550329</td>\n",
       "      <td>дополнительное образование</td>\n",
       "    </tr>\n",
       "    <tr>\n",
       "      <td>4</td>\n",
       "      <td>0</td>\n",
       "      <td>14177.753002</td>\n",
       "      <td>53</td>\n",
       "      <td>среднее</td>\n",
       "      <td>1</td>\n",
       "      <td>гражданский брак</td>\n",
       "      <td>1</td>\n",
       "      <td>F</td>\n",
       "      <td>пенсионер</td>\n",
       "      <td>0</td>\n",
       "      <td>158616.077870</td>\n",
       "      <td>сыграть свадьбу</td>\n",
       "    </tr>\n",
       "  </tbody>\n",
       "</table>\n",
       "</div>"
      ],
      "text/plain": [
       "   children  days_employed  dob_years education  education_id  \\\n",
       "0         1    8437.673028         42    высшее             0   \n",
       "1         1    4024.803754         36   среднее             1   \n",
       "2         0    5623.422610         33   среднее             1   \n",
       "3         3    4124.747207         32   среднее             1   \n",
       "4         0   14177.753002         53   среднее             1   \n",
       "\n",
       "      family_status  family_status_id gender income_type  debt   total_income  \\\n",
       "0   женат / замужем                 0      F   сотрудник     0  253875.639453   \n",
       "1   женат / замужем                 0      F   сотрудник     0  112080.014102   \n",
       "2   женат / замужем                 0      M   сотрудник     0  145885.952297   \n",
       "3   женат / замужем                 0      M   сотрудник     0  267628.550329   \n",
       "4  гражданский брак                 1      F   пенсионер     0  158616.077870   \n",
       "\n",
       "                      purpose  \n",
       "0               покупка жилья  \n",
       "1     приобретение автомобиля  \n",
       "2               покупка жилья  \n",
       "3  дополнительное образование  \n",
       "4             сыграть свадьбу  "
      ]
     },
     "execution_count": 8,
     "metadata": {},
     "output_type": "execute_result"
    }
   ],
   "source": [
    "df.loc[df['days_employed']>0,'days_employed']/=24 #нивилирование экстремально высоких значений\n",
    "df.loc[df['days_employed']<0,'days_employed']*=-1 #смена знака\n",
    "df.head()"
   ]
  },
  {
   "cell_type": "markdown",
   "metadata": {},
   "source": [
    "Возвращаясь к замене пропущенных значений в столбцах days_employed и total_income, восполним средними значениями по профессиям и уровню образования. Средний стаж работы так же оценивается по этим пораметрам, тк при расчете стажа для работника, имеются поправочные коэфициенты для различныйх профессий. В случае недостаточности данных(появление уникальных профессии), пропуски будут восполгнятся средним значением по всем профессиям. "
   ]
  },
  {
   "cell_type": "code",
   "execution_count": 9,
   "metadata": {
    "scrolled": false
   },
   "outputs": [
    {
     "name": "stdout",
     "output_type": "stream",
     "text": [
      "Данные упешно перезаписаны\n"
     ]
    }
   ],
   "source": [
    "income_type = df['income_type'].unique() \n",
    "education = df['education'].unique()\n",
    "#сводная таблица по уровню образования и типу профессий со средними значениями по доходу total_income\n",
    "data_pivot_total_incom = df.pivot_table(index=['income_type'], columns = ['education'], values= 'total_income', aggfunc = 'mean')\n",
    "for i in income_type:\n",
    "    for j in education:\n",
    "        if  data_pivot_total_incom[j][i] > 0: #если имеется значение по такой професссии и уровню образования\n",
    "            df.loc[(df['education'] == j) & (df['income_type']== i) &(df['total_income'] == 0),'total_income']= data_pivot_total_incom[j][i]\n",
    "#сводная таблица по уровню образования и типу профессий со средними значениями по стажу работы days_employed   \n",
    "data_pivot_days_employed = df.pivot_table(index=['income_type'], columns=['education'], values='days_employed' ,aggfunc ='mean') \n",
    "for i in income_type:\n",
    "    for j in education:\n",
    "        if data_pivot_days_employed[j][i] > 0: #если имеется значение по такой професссии и уровню образования\n",
    "            df.loc[(df['education'] == j) & (df['income_type']== i) &(df['days_employed'] == 0),'days_employed']= data_pivot_days_employed[j][i]\n",
    "if (df.loc[df['days_employed'] == 0,'days_employed'].count()==0) and (df.loc[df['total_income'] == 0,'total_income'].count()==0):\n",
    "    print('Данные упешно перезаписаны')        "
   ]
  },
  {
   "cell_type": "markdown",
   "metadata": {},
   "source": [
    "### Вывод"
   ]
  },
  {
   "cell_type": "markdown",
   "metadata": {},
   "source": [
    "Желательно вернуться к источникам данных, выявить там ошибки формах или терминалах заполнения , для предотвращения появления подобных ошибок в будущем."
   ]
  },
  {
   "cell_type": "markdown",
   "metadata": {},
   "source": [
    "<a id=\"id4\"></a>\n",
    "### Замена типа данных\n",
    "[к содержанию](#id0)<br>"
   ]
  },
  {
   "cell_type": "markdown",
   "metadata": {},
   "source": [
    "Столбец days_employed имеет значение количества дней, тк доля дня не играет значительной роли для стажа, то тип данных переводится в целочисленные значения(int).\n",
    "Столбец total_income имеет значение ежемесячного дохода, тк количество копеек в меньшей степени влияяет на уровень дохода, то тип данных переводится в целочисленные значения(int)."
   ]
  },
  {
   "cell_type": "code",
   "execution_count": 10,
   "metadata": {},
   "outputs": [
    {
     "name": "stdout",
     "output_type": "stream",
     "text": [
      "<class 'pandas.core.frame.DataFrame'>\n",
      "Int64Index: 21377 entries, 0 to 21524\n",
      "Data columns (total 12 columns):\n",
      "children            21377 non-null int64\n",
      "days_employed       21377 non-null int64\n",
      "dob_years           21377 non-null int64\n",
      "education           21377 non-null object\n",
      "education_id        21377 non-null int64\n",
      "family_status       21377 non-null object\n",
      "family_status_id    21377 non-null int64\n",
      "gender              21377 non-null object\n",
      "income_type         21377 non-null object\n",
      "debt                21377 non-null int64\n",
      "total_income        21377 non-null int64\n",
      "purpose             21377 non-null object\n",
      "dtypes: int64(7), object(5)\n",
      "memory usage: 2.1+ MB\n"
     ]
    }
   ],
   "source": [
    "df['days_employed'] = df['days_employed'].astype('int64')\n",
    "df['total_income'] = df['total_income'].astype('int64')\n",
    "df.info()"
   ]
  },
  {
   "cell_type": "markdown",
   "metadata": {},
   "source": [
    "### Вывод"
   ]
  },
  {
   "cell_type": "markdown",
   "metadata": {},
   "source": [
    "Тип данных был заменен, что уменьшит количество визуального шума для анализирующего таблицу."
   ]
  },
  {
   "cell_type": "markdown",
   "metadata": {},
   "source": [
    "<a id=\"id5\"></a>\n",
    "### Обработка дубликатов\n",
    "[к содержанию](#id0)<br>"
   ]
  },
  {
   "cell_type": "markdown",
   "metadata": {},
   "source": [
    "Проверка на дубликаты в таблице с учетом регистра (следует табл. education привести к нижнему регистру)\n",
    "Для удаления дубликатов используется ручной поиск дубликатов с учетом региста."
   ]
  },
  {
   "cell_type": "code",
   "execution_count": 11,
   "metadata": {},
   "outputs": [
    {
     "name": "stdout",
     "output_type": "stream",
     "text": [
      "Длинна табслицы с дубликатами = 21377\n",
      "Количество дубликотов в таблице = 71\n"
     ]
    }
   ],
   "source": [
    "print('Длинна табслицы с дубликатами =', df.shape[0])\n",
    "print('Количество дубликотов в таблице =', df.duplicated().sum())"
   ]
  },
  {
   "cell_type": "code",
   "execution_count": 12,
   "metadata": {},
   "outputs": [
    {
     "name": "stdout",
     "output_type": "stream",
     "text": [
      "Длинна табслицы после удаления дубликатов = 21306\n"
     ]
    }
   ],
   "source": [
    "try:\n",
    "    df = df.drop_duplicates().reset_index()\n",
    "except:\n",
    "    print('Дубликаты уже были удалены')\n",
    "print('Длинна табслицы после удаления дубликатов =', df.shape[0])"
   ]
  },
  {
   "cell_type": "markdown",
   "metadata": {},
   "source": [
    "### Вывод"
   ]
  },
  {
   "cell_type": "markdown",
   "metadata": {},
   "source": [
    "Как видно из значения, длинна таблицы изменилась, после удаления дубликатов.\n",
    "Основные причины возникновения дубликатов - неправильное соеденение данных  из разных источников, что в принципе подтверждается группой строк с пропусками в разных столбцах, так же возможны ошибки пользователей при занесении информации. "
   ]
  },
  {
   "cell_type": "markdown",
   "metadata": {},
   "source": [
    "<a id=\"id6\"></a>\n",
    "### Лемматизация\n",
    "[к содержанию](#id0)<br>"
   ]
  },
  {
   "cell_type": "markdown",
   "metadata": {},
   "source": [
    "Приведение уникальных слов из столбца описания целей к леммам, для выяснения основных категорий запросов на кредит и последующего присвоения их для каждой строки."
   ]
  },
  {
   "cell_type": "code",
   "execution_count": 13,
   "metadata": {},
   "outputs": [
    {
     "name": "stdout",
     "output_type": "stream",
     "text": [
      "Выявленные уникальные слова в столбце целей получения кредита: \n",
      "покупка   жилье приобретение автомобиль дополнительный образование сыграть свадьба операция с на проведение для семья недвижимость коммерческий жилой строительство собственный подержать свой со заниматься сделка получение высокий подержанный профильный сдача ремонт \n",
      "\n"
     ]
    }
   ],
   "source": [
    "m = Mystem()\n",
    "'''\n",
    "p = set() #множество слов\n",
    "unique = df['purpose'].unique() #выбираются уникальные слова из столбца 'purpose'\n",
    "for i in unique:\n",
    "    y = m.lemmatize(i) #используя библиотеку pymystem3 слова приводятся к словарной форме и добавляются в множество\n",
    "    for t in y:\n",
    "        p.add(t)\n",
    "print(p)\n",
    "'''\n",
    "lemmas =m.lemmatize(' '.join(df['purpose']))\n",
    "print('Выявленные уникальные слова в столбце целей получения кредита: ')\n",
    "print(*Counter(lemmas))"
   ]
  },
  {
   "cell_type": "markdown",
   "metadata": {},
   "source": [
    "### Вывод"
   ]
  },
  {
   "cell_type": "markdown",
   "metadata": {},
   "source": [
    "Из этого множества можно в ручную вычленить существительный и принять их за цели взятия кредита:\n",
    "\n",
    "свадьба, \n",
    "недвижимость/жилье, \n",
    "автомобиль, \n",
    "операция,\n",
    "ремонт, \n",
    "образование,\n",
    "строительство"
   ]
  },
  {
   "cell_type": "markdown",
   "metadata": {},
   "source": [
    "<a id=\"id7\"></a>\n",
    "### Категоризация данных\n",
    "[к содержанию](#id0)<br>"
   ]
  },
  {
   "cell_type": "markdown",
   "metadata": {},
   "source": [
    "Замена описаний, значениями категорий в столбце целей получения кредита('purpose')"
   ]
  },
  {
   "cell_type": "code",
   "execution_count": 14,
   "metadata": {},
   "outputs": [
    {
     "name": "stdout",
     "output_type": "stream",
     "text": [
      "   index  children  days_employed  dob_years education  education_id  \\\n",
      "0      0         1           8437         42    высшее             0   \n",
      "1      1         1           4024         36   среднее             1   \n",
      "2      2         0           5623         33   среднее             1   \n",
      "3      3         3           4124         32   среднее             1   \n",
      "4      4         0          14177         53   среднее             1   \n",
      "\n",
      "      family_status  family_status_id gender income_type  debt  total_income  \\\n",
      "0   женат / замужем                 0      F   сотрудник     0        253875   \n",
      "1   женат / замужем                 0      F   сотрудник     0        112080   \n",
      "2   женат / замужем                 0      M   сотрудник     0        145885   \n",
      "3   женат / замужем                 0      M   сотрудник     0        267628   \n",
      "4  гражданский брак                 1      F   пенсионер     0        158616   \n",
      "\n",
      "        purpose  \n",
      "0  недвижимость  \n",
      "1    автомобиль  \n",
      "2  недвижимость  \n",
      "3   образование  \n",
      "4       свадьба  \n"
     ]
    }
   ],
   "source": [
    "category = ['свадьба', 'недвижимость', 'автомобиль', 'жилье', 'операция', 'ремонт', 'образование', 'строительство'] #выявленные категории\n",
    "#создание словаря, где ключ - это основа слова, для перебора по значениям столбца 'purpose', значение - название выявленной категории\n",
    "russian_stemmer = SnowballStemmer('russian')  \n",
    "\n",
    "stem_and_lemm = {russian_stemmer.stem(y):y for y,i in zip(category, range(len(category)))} #жилье = недвижимость   \n",
    "stem_and_lemm['жил'] = 'недвижимость'\n",
    "def definition_category(value_data):\n",
    "    for key, value in stem_and_lemm.items():\n",
    "        if key in value_data:\n",
    "            return value    \n",
    "df['purpose'] = df['purpose'].apply(definition_category)\n",
    "print(df.head(5))"
   ]
  },
  {
   "cell_type": "markdown",
   "metadata": {},
   "source": [
    "Категаризация данных по уровню дохода \n",
    "\n",
    "минимальный \n",
    "низкий\n",
    "средний\n",
    "высокий \n",
    "максимальный\n",
    "спекстр значений разбивается на 5 равных частей"
   ]
  },
  {
   "cell_type": "markdown",
   "metadata": {},
   "source": [
    "### Вывод"
   ]
  },
  {
   "cell_type": "markdown",
   "metadata": {},
   "source": [
    "При внесении данных удобней было бы создать форму выбора категории, для удобства обработки данных, а в случае появления уникальных целей для кредита, своевременно дополнять новую категорию в форму."
   ]
  },
  {
   "cell_type": "markdown",
   "metadata": {},
   "source": [
    "<a id=\"id8\"></a>\n",
    "### Шаг 3. Ответьте на вопросы\n",
    "[к содержанию](#id0)<br>"
   ]
  },
  {
   "cell_type": "markdown",
   "metadata": {},
   "source": [
    "- Есть ли зависимость между наличием детей и возвратом кредита в срок?"
   ]
  },
  {
   "cell_type": "markdown",
   "metadata": {},
   "source": [
    "Ниже подсчитывается процент возвражения кредита по количеству детей в семье. "
   ]
  },
  {
   "cell_type": "code",
   "execution_count": 15,
   "metadata": {},
   "outputs": [
    {
     "name": "stdout",
     "output_type": "stream",
     "text": [
      "КОЛ. ДЕТЕЙ           ОБЩЕЕ     ДОЛЖН.          %\n",
      "0                    14022       1058         8%\n",
      "1                     4792        441         9%\n",
      "2                     2114        202        10%\n",
      "3                      328         27         8%\n",
      "4                       41          4        10%\n",
      "5                        9          0         0%\n"
     ]
    }
   ],
   "source": [
    "children = df['children'].unique()\n",
    "children.sort()\n",
    "print('{: <15}'.format('КОЛ. ДЕТЕЙ'),'{: >10}'.format('ОБЩЕЕ'),'{: >10}'.format('ДОЛЖН.'),'{: >10}'.format('%'))\n",
    "for i in children:\n",
    "    s=df[df['children']==i]['debt'].sum()\n",
    "    c=df[df['children']==i]['debt'].count()\n",
    "    print('{: <15}'.format(i),'{: >10.0f}'.format(c),'{: >10.0f}'.format(s),'{: >10.0%}'.format(s / c))"
   ]
  },
  {
   "cell_type": "markdown",
   "metadata": {},
   "source": [
    "### Вывод"
   ]
  },
  {
   "cell_type": "markdown",
   "metadata": {},
   "source": [
    "Из данных заметно, что не большая зависимость имеется, но незначительная, люди с большим количеством детей имеют больший процент задолжностей по кредиту."
   ]
  },
  {
   "cell_type": "markdown",
   "metadata": {},
   "source": [
    "- Есть ли зависимость между семейным положением и возвратом кредита в срок?"
   ]
  },
  {
   "cell_type": "code",
   "execution_count": 16,
   "metadata": {},
   "outputs": [
    {
     "name": "stdout",
     "output_type": "stream",
     "text": [
      "family_status\n",
      "Не женат / не замужем    9.788455\n",
      "в разводе                7.197290\n",
      "вдовец / вдова           6.526316\n",
      "гражданский брак         9.357576\n",
      "женат / замужем          7.552402\n",
      "Name: debt, dtype: float64\n"
     ]
    }
   ],
   "source": [
    "'''\n",
    "family_status = df['family_status'].unique()\n",
    "print('{: <25}'.format('СЕМЕЙНЫЙ СТАТУС'),'{: >5}'.format('ОБЩЕЕ'),'{: >8}'.format('ЗАДОЛЖ.'),'{: >5}'.format('%'))\n",
    "for i in family_status:\n",
    "    s=df[df['family_status']==i]['debt'].sum()\n",
    "    c=df[df['family_status']==i]['debt'].count()\n",
    "    print('{: <25}'.format(i),'{: >5.0f}'.format(c),'{: >8.0f}'.format(s),'{: >5.0%}'.format(s / c))\n",
    "'''  \n",
    "print(df.groupby('family_status')['debt'].mean()*100)"
   ]
  },
  {
   "cell_type": "code",
   "execution_count": 24,
   "metadata": {},
   "outputs": [
    {
     "data": {
      "text/html": [
       "<style  type=\"text/css\" >\n",
       "</style><table id=\"T_a708f1aa_3be5_11eb_9346_02420a391964\" ><thead>    <tr>        <th class=\"blank level0\" ></th>        <th class=\"col_heading level0 col0\" >debt</th>    </tr>    <tr>        <th class=\"index_name level0\" >family_status</th>        <th class=\"blank\" ></th>    </tr></thead><tbody>\n",
       "                <tr>\n",
       "                        <th id=\"T_a708f1aa_3be5_11eb_9346_02420a391964level0_row0\" class=\"row_heading level0 row0\" >Не женат / не замужем</th>\n",
       "                        <td id=\"T_a708f1aa_3be5_11eb_9346_02420a391964row0_col0\" class=\"data row0 col0\" >9.79%</td>\n",
       "            </tr>\n",
       "            <tr>\n",
       "                        <th id=\"T_a708f1aa_3be5_11eb_9346_02420a391964level0_row1\" class=\"row_heading level0 row1\" >в разводе</th>\n",
       "                        <td id=\"T_a708f1aa_3be5_11eb_9346_02420a391964row1_col0\" class=\"data row1 col0\" >7.20%</td>\n",
       "            </tr>\n",
       "            <tr>\n",
       "                        <th id=\"T_a708f1aa_3be5_11eb_9346_02420a391964level0_row2\" class=\"row_heading level0 row2\" >вдовец / вдова</th>\n",
       "                        <td id=\"T_a708f1aa_3be5_11eb_9346_02420a391964row2_col0\" class=\"data row2 col0\" >6.53%</td>\n",
       "            </tr>\n",
       "            <tr>\n",
       "                        <th id=\"T_a708f1aa_3be5_11eb_9346_02420a391964level0_row3\" class=\"row_heading level0 row3\" >гражданский брак</th>\n",
       "                        <td id=\"T_a708f1aa_3be5_11eb_9346_02420a391964row3_col0\" class=\"data row3 col0\" >9.36%</td>\n",
       "            </tr>\n",
       "            <tr>\n",
       "                        <th id=\"T_a708f1aa_3be5_11eb_9346_02420a391964level0_row4\" class=\"row_heading level0 row4\" >женат / замужем</th>\n",
       "                        <td id=\"T_a708f1aa_3be5_11eb_9346_02420a391964row4_col0\" class=\"data row4 col0\" >7.55%</td>\n",
       "            </tr>\n",
       "    </tbody></table>"
      ],
      "text/plain": [
       "<pandas.io.formats.style.Styler at 0x7f5903016690>"
      ]
     },
     "execution_count": 24,
     "metadata": {},
     "output_type": "execute_result"
    }
   ],
   "source": [
    "df.pivot_table(index = 'family_status', values = 'debt').style.format({'debt': '{:.2%}'})"
   ]
  },
  {
   "cell_type": "markdown",
   "metadata": {},
   "source": [
    "### Вывод"
   ]
  },
  {
   "cell_type": "markdown",
   "metadata": {},
   "source": [
    "Как видно из таблицы, имеется зависимость между симейным положением и возвращением кредита - больший процент людей имеющих задолженности по кредиту приходится на людей не состоящих в браке."
   ]
  },
  {
   "cell_type": "markdown",
   "metadata": {},
   "source": [
    "- Есть ли зависимость между уровнем дохода и возвратом кредита в срок?"
   ]
  },
  {
   "cell_type": "markdown",
   "metadata": {},
   "source": [
    "Для удобства анализа Уровень дохода будет разбит на категории дохода(интервал доходов на равные 5 частей):\n",
    "\n",
    "    - минимальный \n",
    "    - низкий\n",
    "    - средний \n",
    "    - высокий\n",
    "    - максимальный\n",
    "    "
   ]
  },
  {
   "cell_type": "code",
   "execution_count": 17,
   "metadata": {},
   "outputs": [
    {
     "name": "stdout",
     "output_type": "stream",
     "text": [
      "УРОВЕНЬ ДОХОДА            ОБЩЕЕ  ЗАДОЛЖ.     %\n",
      "максимальный               4130      293    7%\n",
      "низкий                     4261      357    8%\n",
      "средний                    4297      384    9%\n",
      "минимальный                4262      343    8%\n",
      "высокий                    4356      355    8%\n"
     ]
    }
   ],
   "source": [
    "df['total_income_category'] = pd.qcut(df['total_income'],5,labels = ['минимальный','низкий','средний','высокий','максимальный']) #интервал дохода разбивается на пять групп \n",
    "total_income_category = df['total_income_category'].unique()\n",
    "print('{: <25}'.format('УРОВЕНЬ ДОХОДА'),'{: >5}'.format('ОБЩЕЕ'),'{: >8}'.format('ЗАДОЛЖ.'),'{: >5}'.format('%'))\n",
    "for i in total_income_category:\n",
    "    s=df[df['total_income_category']==i]['debt'].sum()\n",
    "    c=df[df['total_income_category']==i]['debt'].count()\n",
    "    print('{: <25}'.format(i),'{: >5.0f}'.format(c),'{: >8.0f}'.format(s),'{: >5.0%}'.format(s / c))    "
   ]
  },
  {
   "cell_type": "markdown",
   "metadata": {},
   "source": [
    "### Вывод"
   ]
  },
  {
   "cell_type": "markdown",
   "metadata": {},
   "source": [
    "По данным виндна некоторая незначительная зависимость, что люди с меньшим уровнем дохода чаще иеют задолженность по кредиту. Значение процентного уровня задолженности для людей с высоким и максильным уровнями дахода меньше на 1-2%."
   ]
  },
  {
   "cell_type": "markdown",
   "metadata": {},
   "source": [
    "- Как разные цели кредита влияют на его возврат в срок?"
   ]
  },
  {
   "cell_type": "code",
   "execution_count": 18,
   "metadata": {},
   "outputs": [
    {
     "name": "stdout",
     "output_type": "stream",
     "text": [
      "ЦЕЛЬ ПОЛУЧЕНИЯ КРЕДИТА    ОБЩЕЕ  ЗАДОЛЖ.     %\n",
      "недвижимость              10740      779    7%\n",
      "автомобиль                 4273      399    9%\n",
      "образование                3985      370    9%\n",
      "свадьба                    2308      184    8%\n"
     ]
    }
   ],
   "source": [
    "purpose = df['purpose'].unique()\n",
    "print('{: <25}'.format('ЦЕЛЬ ПОЛУЧЕНИЯ КРЕДИТА'),'{: >5}'.format('ОБЩЕЕ'),'{: >8}'.format('ЗАДОЛЖ.'),'{: >5}'.format('%'))\n",
    "for i in purpose:\n",
    "    s=df[df['purpose']==i]['debt'].sum()\n",
    "    c=df[df['purpose']==i]['debt'].count()\n",
    "    print('{: <25}'.format(i),'{: >5.0f}'.format(c),'{: >8.0f}'.format(s),'{: >5.0%}'.format(s / c))"
   ]
  },
  {
   "cell_type": "markdown",
   "metadata": {},
   "source": [
    "### Вывод"
   ]
  },
  {
   "cell_type": "markdown",
   "metadata": {},
   "source": [
    "Зависимость между возвращением кредита в срок и целью кредита имеется, однака незначительная 1-2%."
   ]
  },
  {
   "cell_type": "markdown",
   "metadata": {},
   "source": [
    "<a id=\"id9\"></a>\n",
    "### Шаг 4. Общий вывод\n",
    "[к содержанию](#id0)<br>"
   ]
  },
  {
   "cell_type": "markdown",
   "metadata": {},
   "source": [
    "Данные изначально были не обработаны - имели пропуски, были отрецательные  и экстримально высокие значения, заполнены нулевыми значениями в графе возраста, а так же тип присутствовали типы данных неудобные для обработки и визуального анализа.\n",
    "Касательно гипотез:\n",
    "- Семейное положение имеет кореляцию на вероятность выплаты кредита в срок, люди состоящиие в браке имеют меньший процент задолженности по кредиту\n",
    "- Между количеством детей в семье и возвращенем кредита в срок имеется не значительная корреляция(1-2%)- люди с большим количеством детей, имеют более высокий процент по задолжености по  кредиту.\n",
    "- Между уровнем дохода и степенью задолженности людей по кредиту, имеется зависимость - люди с меньшим уровнем дохода имеют более высокий уровень задолженности.\n",
    "- Цель кредита покупка недвижимости имеет минимальный уровень задолженности, а кредит с целью оплаты образования или покупки автомобиля имеет более высокий процент задолженностей"
   ]
  }
 ],
 "metadata": {
  "kernelspec": {
   "display_name": "Python 3",
   "language": "python",
   "name": "python3"
  },
  "language_info": {
   "codemirror_mode": {
    "name": "ipython",
    "version": 3
   },
   "file_extension": ".py",
   "mimetype": "text/x-python",
   "name": "python",
   "nbconvert_exporter": "python",
   "pygments_lexer": "ipython3",
   "version": "3.7.4"
  },
  "toc": {
   "base_numbering": 1,
   "nav_menu": {},
   "number_sections": true,
   "sideBar": true,
   "skip_h1_title": true,
   "title_cell": "Table of Contents",
   "title_sidebar": "Contents",
   "toc_cell": false,
   "toc_position": {},
   "toc_section_display": true,
   "toc_window_display": false
  }
 },
 "nbformat": 4,
 "nbformat_minor": 2
}
