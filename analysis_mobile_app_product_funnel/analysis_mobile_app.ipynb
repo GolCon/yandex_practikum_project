{
 "cells": [
  {
   "cell_type": "markdown",
   "id": "latest-hopkins",
   "metadata": {},
   "source": [
    "# Аналитика поведения пользователей мобильного приложения\n",
    "\n",
    "## Описание проекта\n",
    " - Изучение воронки продаж. Анализ пользовательского пути до покупки. Вывявление проблемных шагов.\n",
    " - Изучение результатов A/A/B-эксперимента, изменения шрифтов во всём приложении. Пользователей разбиты на 3 группы: 2 контрольные со старыми шрифтами и одну экспериментальную — с новыми. Определение лучшего шрифта.\n",
    " \n",
    "## Описание данных\n",
    "Каждая запись в логе — это действие пользователя, или событие.\n",
    "\n",
    "    EventName — название события;\n",
    "    DeviceIDHash — уникальный идентификатор пользователя;\n",
    "    EventTimestamp — время события;\n",
    "    ExpId — номер эксперимента: 246 и 247 — контрольные группы, а 248 — экспериментальная."
   ]
  },
  {
   "cell_type": "markdown",
   "id": "matched-maple",
   "metadata": {},
   "source": [
    "<a id=\"id0\"></a>\n",
    "## Содержание: \n",
    "\n",
    "[1. **Шаг 1. Выгрузка данных и подключение необходимых бибиотек.**](#id1)<br>\n",
    "[2. **Шаг 2. Подготовка данных.**](#id2)<br>\n",
    "[3. **Шаг 3. Изучение и проверка данных.**](#id3)<br>\n",
    "[4. **Шаг 4. Изучение воронки событий.**](#id4)<br>\n",
    "[5. **Шаг 5. Изучение результатов эксперимента.**](#id5)<br>"
   ]
  },
  {
   "cell_type": "markdown",
   "id": "electoral-deviation",
   "metadata": {},
   "source": [
    "<a id=\"id1\"></a>\n",
    "## Шаг 1. Выгрузка данных и подключение необходимых бибиотек.\n",
    "[к содержанию](#id0)<br>"
   ]
  },
  {
   "cell_type": "code",
   "execution_count": 1,
   "id": "quick-better",
   "metadata": {},
   "outputs": [],
   "source": [
    "#подключение библиотек\n",
    "import pandas as pd\n",
    "import numpy as np\n",
    "import matplotlib.pyplot as plt\n",
    "from scipy import stats as st\n",
    "import seaborn as sns\n",
    "import time\n",
    "import datetime"
   ]
  },
  {
   "cell_type": "code",
   "execution_count": 2,
   "id": "breathing-retrieval",
   "metadata": {},
   "outputs": [],
   "source": [
    "#выгрузка данных\n",
    "try:\n",
    "    logs_exp = pd.read_csv('C:/projects/logs_exp.csv',sep='\\t')\n",
    "except:\n",
    "    logs_exp = pd.read_csv(r'/datasets/logs_exp.csv',sep='\\t')"
   ]
  },
  {
   "cell_type": "code",
   "execution_count": 3,
   "id": "expired-maldives",
   "metadata": {},
   "outputs": [
    {
     "name": "stdout",
     "output_type": "stream",
     "text": [
      "\u001b[1mТаблица с логами действий в мобильном приложении:\u001b[0m\n",
      "\u001b[1mВывод метода info()\u001b[0m\n",
      "<class 'pandas.core.frame.DataFrame'>\n",
      "RangeIndex: 244126 entries, 0 to 244125\n",
      "Data columns (total 4 columns):\n",
      "EventName         244126 non-null object\n",
      "DeviceIDHash      244126 non-null int64\n",
      "EventTimestamp    244126 non-null int64\n",
      "ExpId             244126 non-null int64\n",
      "dtypes: int64(3), object(1)\n",
      "memory usage: 7.5+ MB\n",
      "\u001b[1mПросмотр первых строк таблицы:\u001b[0m\n",
      "                 EventName         DeviceIDHash  EventTimestamp  ExpId\n",
      "0         MainScreenAppear  4575588528974610257      1564029816    246\n",
      "1         MainScreenAppear  7416695313311560658      1564053102    246\n",
      "2  PaymentScreenSuccessful  3518123091307005509      1564054127    248\n",
      "3         CartScreenAppear  3518123091307005509      1564054127    248\n",
      "4  PaymentScreenSuccessful  6217807653094995999      1564055322    248\n",
      "\u001b[1m----------------------------\u001b[0m\n"
     ]
    }
   ],
   "source": [
    "#изучение данных\n",
    "print('\\033[1m' + 'Таблица с логами действий в мобильном приложении:' + '\\033[0m')\n",
    "print ('\\033[1m' + 'Вывод метода info()' + '\\033[0m')\n",
    "logs_exp.info()\n",
    "print ('\\033[1m' + 'Просмотр первых строк таблицы:' + '\\033[0m')\n",
    "print(logs_exp.head(5))\n",
    "print('\\033[1m' +'----------------------------' + '\\033[0m')"
   ]
  },
  {
   "cell_type": "markdown",
   "id": "junior-adoption",
   "metadata": {},
   "source": [
    "<a id=\"id2\"></a>\n",
    "## Шаг 2. Подготовка данных.\n",
    "[к содержанию](#id0)<br>\n",
    "\n",
    "Наименование столбцов в принципе удобны и rкорректны, не нуждаются в обработке.\n",
    "Типы данных также не нуждаются в обработке. Пропусков не обнаружено"
   ]
  },
  {
   "cell_type": "code",
   "execution_count": 4,
   "id": "empirical-confidence",
   "metadata": {},
   "outputs": [
    {
     "name": "stdout",
     "output_type": "stream",
     "text": [
      "\u001b[1mРЕЗУЛЬТАТЫ:\u001b[0m\n",
      "Количество дубликатов = 413 это  0.16917493425526162 % от всех данных\n"
     ]
    }
   ],
   "source": [
    "#добавление столбцов с датами и временем\n",
    "logs_exp['DateTimeEvent'] =logs_exp['EventTimestamp'].apply(lambda x: datetime.datetime.fromtimestamp(x).strftime('%Y-%m-%d %H:%M:%S'))\n",
    "logs_exp['DateEvent'] = logs_exp['DateTimeEvent'].astype('datetime64[D]')\n",
    "print('\\033[1m' +'РЕЗУЛЬТАТЫ:'+'\\033[0m')\n",
    "dup = len(logs_exp[logs_exp.duplicated()])\n",
    "print(f'Количество дубликатов = {dup} это ', dup/len(logs_exp)*100 ,\"% от всех данных\"  )\n",
    "logs_exp= logs_exp.drop_duplicates()\n",
    "#print('Столбец даты и времени, а также отдельный столбец дат были добавлены.')"
   ]
  },
  {
   "cell_type": "markdown",
   "id": "apart-right",
   "metadata": {},
   "source": [
    "### ВЫВОД:\n",
    "    - Были обнаружены пропуски, в доли меньше процента от всех данных, поэтому они были удалены.\n",
    "    - Столбец даты и времени, а также отдельный столбец дат были добавлены."
   ]
  },
  {
   "cell_type": "markdown",
   "id": "friendly-regulation",
   "metadata": {},
   "source": [
    "<a id=\"id3\"></a>\n",
    "## Шаг 3. Изучение и проверка данных.\n",
    "[к содержанию](#id0)<br>"
   ]
  },
  {
   "cell_type": "code",
   "execution_count": 15,
   "id": "surprised-blond",
   "metadata": {},
   "outputs": [],
   "source": [
    "def show_hist(data,bins,name1,name2,title):\n",
    "    plt.figure(figsize=(14,4))\n",
    "    data.hist(bins=bins)\n",
    "    plt.title(title)\n",
    "    plt.xlabel(name1)\n",
    "    plt.ylabel(name2)\n",
    "    plt.show()"
   ]
  },
  {
   "cell_type": "code",
   "execution_count": 18,
   "id": "rubber-seeking",
   "metadata": {},
   "outputs": [
    {
     "name": "stdout",
     "output_type": "stream",
     "text": [
      "\u001b[1mРЕЗУЛЬТАТЫ:\u001b[0m\n",
      "Всего событий в логе 243713 штуки\n",
      "Всего пользователей в логе 7551\n",
      "\u001b[1m------------------------------------------------------------------------------------------------\u001b[0m\n"
     ]
    },
    {
     "data": {
      "image/png": "[encoded data removed]",
      "text/plain": [
       "<Figure size 1008x288 with 1 Axes>"
      ]
     },
     "metadata": {
      "needs_background": "light"
     },
     "output_type": "display_data"
    },
    {
     "name": "stdout",
     "output_type": "stream",
     "text": [
      "Характерным значением количества событий на пользователя является мода, равная 5\n",
      "\u001b[1m------------------------------------------------------------------------------------------------\u001b[0m\n",
      "Период исследования в данных равен 13.0 дням\n",
      "\u001b[1m------------------------------------------------------------------------------------------------\u001b[0m\n"
     ]
    },
    {
     "data": {
      "image/png": "[encoded data removed]",
      "text/plain": [
       "<Figure size 1008x288 with 1 Axes>"
      ]
     },
     "metadata": {
      "needs_background": "light"
     },
     "output_type": "display_data"
    }
   ],
   "source": [
    "#события\\пользователи\\среднее событий на пользователя\n",
    "countEvent =logs_exp['EventName'].shape[0]\n",
    "countUsers = logs_exp['DeviceIDHash'].nunique()\n",
    "print('\\033[1m' +'РЕЗУЛЬТАТЫ:'+'\\033[0m')\n",
    "print(f'Всего событий в логе {countEvent} штуки')\n",
    "print(f'Всего пользователей в логе {countUsers}')\n",
    "print('\\033[1m' +'------------------------------------------------------------------------------------------------' + '\\033[0m')\n",
    "count_actions_per_u = logs_exp.groupby('DeviceIDHash',as_index=False).agg({'EventName':'count'})['EventName']\n",
    "show_hist(count_actions_per_u,500,'частота','количество событий на пользователя','Распределение событий')\n",
    "print('Характерным значением количества событий на пользователя является мода, равная', *count_actions_per_u.mode())\n",
    "print('\\033[1m' +'------------------------------------------------------------------------------------------------' + '\\033[0m')\n",
    "#период исследования\n",
    "period = (logs_exp['DateEvent'].max()-logs_exp['DateEvent'].min())/np.timedelta64(1,'D')\n",
    "print(f'Период исследования в данных равен {period} дням')\n",
    "print('\\033[1m' +'------------------------------------------------------------------------------------------------' + '\\033[0m')\n",
    "#график по начальным данным \n",
    "show_hist(logs_exp['DateEvent'],10,'дата_исследования','количество_событий','Распределение событий во времени по изначальным данным')"
   ]
  },
  {
   "cell_type": "markdown",
   "id": "patient-moderator",
   "metadata": {},
   "source": [
    "- На основе гистограммы предположтительно данные первые 6 дней захвачены из прошлого, тк на седьмой день нистограмма имеет более выраженное поведение. Следовательно, истинно для анализа располагаем период в 8 дней, начиная с 1 числа. Ниже эти данные отбрасываются.\n"
   ]
  },
  {
   "cell_type": "code",
   "execution_count": 8,
   "id": "underlying-voltage",
   "metadata": {
    "scrolled": false
   },
   "outputs": [
    {
     "name": "stdout",
     "output_type": "stream",
     "text": [
      "\u001b[1mРЕЗУЛЬТАТЫ:\u001b[0m\n"
     ]
    },
    {
     "data": {
      "image/png": "[encoded data removed]",
      "text/plain": [
       "<Figure size 1008x288 with 1 Axes>"
      ]
     },
     "metadata": {
      "needs_background": "light"
     },
     "output_type": "display_data"
    },
    {
     "name": "stdout",
     "output_type": "stream",
     "text": [
      "\u001b[1m------------------------------------------------------------------------------------------------\u001b[0m\n",
      "Данные после очистки:\n",
      "пользователей потеряно 17, это 0.2% всех пользователей.\n",
      "событий потеряно 2826, это 1.2% всех событий.\n",
      "\u001b[1m------------------------------------------------------------------------------------------------\u001b[0m\n",
      "Проверка целостности групп:\n",
      "   ExpId  EventTimestamp\n",
      "0    246           66582\n",
      "1    247           65712\n",
      "2    248           71929\n"
     ]
    }
   ],
   "source": [
    "#график с очищенными данными \n",
    "print('\\033[1m' +'РЕЗУЛЬТАТЫ:'+'\\033[0m')\n",
    "clean = logs_exp[logs_exp['DateEvent']>'2019-07-31']\n",
    "show_hist(clean['DateEvent'],7,'дата_исследования','количество_событий','Распределение событий во времени по очищенным данным')\n",
    "#информация об очищенных данных\n",
    "print('\\033[1m' +'------------------------------------------------------------------------------------------------' + '\\033[0m')\n",
    "print('Данные после очистки:')\n",
    "all_users = logs_exp['DeviceIDHash'].nunique()\n",
    "all_actions = logs_exp['EventName'].count()\n",
    "lost_users = all_users-clean['DeviceIDHash'].nunique()\n",
    "lost_action = all_actions-clean['EventName'].count()\n",
    "print(f'пользователей потеряно {lost_users}, это {(lost_users/all_users):.1%} всех пользователей.')\n",
    "print(f'событий потеряно {lost_action}, это {(lost_action/all_actions):.1%} всех событий.')\n",
    "print('\\033[1m' +'------------------------------------------------------------------------------------------------' + '\\033[0m')\n",
    "print('Проверка целостности групп:')\n",
    "print(logs_exp.groupby('ExpId',as_index=False).agg({'EventTimestamp':'nunique'}))"
   ]
  },
  {
   "cell_type": "markdown",
   "id": "sorted-culture",
   "metadata": {},
   "source": [
    "### ВЫВОДЫ:\n",
    "    - Отброшены слабо выраженные значения, вероятно полученные из прошлого. Доля отброшеных данных не имеет значимого процентного содержания для всей используемой базы. \n",
    "    - Целостность количества групп не была утрачена."
   ]
  },
  {
   "cell_type": "markdown",
   "id": "informational-auction",
   "metadata": {},
   "source": [
    "<a id=\"id4\"></a>\n",
    "## Шаг 4. Изучение воронки событий.\n",
    "[к содержанию](#id0)<br>"
   ]
  },
  {
   "cell_type": "code",
   "execution_count": 23,
   "id": "lined-valentine",
   "metadata": {},
   "outputs": [
    {
     "name": "stdout",
     "output_type": "stream",
     "text": [
      "\u001b[1mРЕЗУЛЬТАТЫ:\u001b[0m\n",
      "\u001b[1mЧастота встречаемых событий:\u001b[0m\n",
      "                 EventName  EventTimestamp\n",
      "1         MainScreenAppear          103628\n",
      "2       OffersScreenAppear           43985\n",
      "0         CartScreenAppear           40208\n",
      "3  PaymentScreenSuccessful           32586\n",
      "4                 Tutorial            1005\n",
      "------------------------------------------------------------------------------------------------\n",
      "\u001b[1mКоличество уникальных пользователей по типу события и доля пользователей по отношению ко всем пользователеям:\u001b[0m\n",
      "                 EventName  DeviceIDHash PercentContent\n",
      "1         MainScreenAppear          7419         98.25%\n",
      "2       OffersScreenAppear          4593         60.83%\n",
      "0         CartScreenAppear          3734         49.45%\n",
      "3  PaymentScreenSuccessful          3539         46.87%\n",
      "4                 Tutorial           840         11.12%\n"
     ]
    }
   ],
   "source": [
    "print('\\033[1m' +'РЕЗУЛЬТАТЫ:'+'\\033[0m')\n",
    "print('\\033[1m' +'Частота встречаемых событий:'+'\\033[0m')\n",
    "sort_clean = clean.groupby('EventName',as_index=False).agg({'EventTimestamp':'nunique'}).sort_values(by ='EventTimestamp',ascending=False)\n",
    "print(sort_clean)\n",
    "#воронка активностей\n",
    "print('------------------------------------------------------------------------------------------------' )\n",
    "print('\\033[1m' +'Количество уникальных пользователей по типу события и доля пользователей по отношению ко всем пользователеям:'+'\\033[0m')\n",
    "sort_clean = clean.groupby('EventName',as_index=False).agg({'DeviceIDHash':'nunique'}).sort_values(by ='DeviceIDHash',ascending=False)\n",
    "all_users_series_type = pd.Series(data = [all_users for i in range(0,len(sort_clean))], index = [1,2,0,3,4],name='AllUsers')\n",
    "if 'AllUsers' not in sort_clean.columns:\n",
    "    sort_clean = sort_clean.join(all_users_series_type)\n",
    "sort_clean['PercentContent'] = sort_clean['DeviceIDHash']/sort_clean['AllUsers']\n",
    "del sort_clean['AllUsers']\n",
    "sort_clean['PercentContent'] = pd.Series([\"{0:.2f}%\".format(val * 100) for val in sort_clean['PercentContent']], index = sort_clean.index)\n",
    "print(sort_clean)"
   ]
  },
  {
   "cell_type": "markdown",
   "id": "graduate-amplifier",
   "metadata": {},
   "source": [
    "- Как на основе рейтинга частоты событий, так и рейтинга количества пользователей событий выстраивается следующая модель воронки:  MainScreenAppear>OffersScreenAppear>CartScreenAppear>PaymentScreenSuccessful (событие Tutorial не лежит на пути к  ключевому действию, а скорей является вспомогательной опцией, от чего в воронке не учитывается)"
   ]
  },
  {
   "cell_type": "code",
   "execution_count": 33,
   "id": "theoretical-welsh",
   "metadata": {},
   "outputs": [
    {
     "name": "stdout",
     "output_type": "stream",
     "text": [
      "\u001b[1mРЕЗУЛЬТАТЫ:\u001b[0m\n",
      "                 EventName  DeviceIDHash PercentContent     Share\n",
      "0         MainScreenAppear          7419         98.25%  1.000000\n",
      "1       OffersScreenAppear          4593         60.83%  0.619086\n",
      "2         CartScreenAppear          3734         49.45%  0.812976\n",
      "3  PaymentScreenSuccessful          3539         46.87%  0.947777\n",
      "\u001b[1m------------------------------------------------------------------------------------------------\u001b[0m\n"
     ]
    },
    {
     "data": {
      "image/png": "[encoded data removed]",
      "text/plain": [
       "<Figure size 1008x288 with 1 Axes>"
      ]
     },
     "metadata": {
      "needs_background": "light"
     },
     "output_type": "display_data"
    },
    {
     "name": "stdout",
     "output_type": "stream",
     "text": [
      "\u001b[1m------------------------------------------------------------------------------------------------\u001b[0m\n",
      "Конверсия пользователей с первого действия в покупку = 47.70%\n"
     ]
    }
   ],
   "source": [
    "select_funnel = sort_clean[sort_clean['EventName'].isin(['MainScreenAppear','OffersScreenAppear','CartScreenAppear','PaymentScreenSuccessful'])]\n",
    "select_funnel.reset_index(inplace=True)\n",
    "del select_funnel['index']\n",
    "for i in range(len(select_funnel)):\n",
    "    if i==0:\n",
    "        select_funnel.loc[0,'Share'] = 1\n",
    "    else:    \n",
    "        select_funnel.loc[i,'Share'] = select_funnel.loc[i,'DeviceIDHash'] /select_funnel.loc[i-1,'DeviceIDHash']\n",
    "print('\\033[1m' +'РЕЗУЛЬТАТЫ:'+'\\033[0m')        \n",
    "print(select_funnel)\n",
    "select_funnel.plot.bar(y='Share', x='EventName',figsize=(14,4),title='Воронка продаж')\n",
    "plt.xlabel('Шаг воронки')\n",
    "plt.ylabel('Процентов пользователей к предыдущему шагу')\n",
    "plt.xticks(rotation=0)\n",
    "plt.grid()\n",
    "print('\\033[1m' +'------------------------------------------------------------------------------------------------' + '\\033[0m')\n",
    "plt.show()\n",
    "print('\\033[1m' +'------------------------------------------------------------------------------------------------' + '\\033[0m')\n",
    "first_action = select_funnel.loc[0,'DeviceIDHash']\n",
    "payment_action = select_funnel.loc[3,'DeviceIDHash']\n",
    "conversion_rate = payment_action/first_action\n",
    "print(f'Конверсия пользователей с первого действия в покупку = {conversion_rate:.2%}')"
   ]
  },
  {
   "cell_type": "markdown",
   "id": "banned-nursing",
   "metadata": {},
   "source": [
    "### ВЫВОДЫ:\n",
    "- больше всего теряется пользователей от предыдущего шага, порядка 40%, на шаге OffersScreenAppear(событие добавления товара вкорзину)."
   ]
  },
  {
   "cell_type": "markdown",
   "id": "unlikely-jumping",
   "metadata": {},
   "source": [
    "<a id=\"id5\"></a>\n",
    "## Шаг 5. Изучение результатов эксперимента.\n",
    "[к содержанию](#id0)<br>"
   ]
  },
  {
   "cell_type": "code",
   "execution_count": 37,
   "id": "atmospheric-charm",
   "metadata": {},
   "outputs": [],
   "source": [
    "#используемые функции в блоке\n",
    "def df_group_retantion(data_group):\n",
    "    A_all_users = data_group['DeviceIDHash'].nunique()\n",
    "    steps = data_group.groupby('EventName',as_index=False).agg({'DeviceIDHash':'nunique'}).sort_values('DeviceIDHash',ascending=False).reset_index()\n",
    "    del steps['index']\n",
    "    #получение словаря действие:количество пользователей\n",
    "    g = {steps.loc[x,'EventName']:steps.loc[x,'DeviceIDHash'] for x in range(len(steps))}\n",
    "    temp = pd.Series([1 for i in range(0,A_all_users)])\n",
    "    for key,value in g.items(): #сюда\n",
    "        #разметка конверсионных групп\n",
    "        plus = pd.Series([1 for i in range(0,value)],name=key)\n",
    "        minus = pd.Series([0 for i in range(0,A_all_users-value)],name=key)\n",
    "        #объеденение групп\n",
    "        m = pd.concat([plus, minus], axis=0 )\n",
    "        m = m.reset_index()\n",
    "        del m['index']\n",
    "        #датафрейм разметки по типам активностей\n",
    "        temp = pd.concat((temp,m),axis=1)\n",
    "    del temp['Tutorial']\n",
    "    del temp[0]\n",
    "    return temp\n",
    "#######\n",
    "def result_hypophes(df_sampleA,df_sampleB,count_h):\n",
    "    for i in df_sampleA.columns: \n",
    "        result = st.mannwhitneyu(df_sampleA[i], df_sampleB[i],alternative='two-sided')\n",
    "        #поправка Холма — Бонферрони\n",
    "        alpha = 0.05/count_h\n",
    "        print(f'Стат значимость групп = {result.pvalue:.3f}')\n",
    "        print(f\"Проверка стат. значимости равенства для события {i}\")\n",
    "        if result.pvalue < alpha/2:\n",
    "            print('Нулевая гипотеза о статистически незначимых различий конверсий двух групп не принимается:')\n",
    "        else:\n",
    "            (print\n",
    "             ('Нулевая гипотеза о статистически незначимых различиях между конверсий групп не отвергается'))\n",
    "        print('\\033[1m' +'------------------------------------------------------------' + '\\033[0m')"
   ]
  },
  {
   "cell_type": "code",
   "execution_count": 38,
   "id": "instructional-benjamin",
   "metadata": {},
   "outputs": [
    {
     "name": "stdout",
     "output_type": "stream",
     "text": [
      "\u001b[1mРЕЗУЛЬТАТЫ:\u001b[0m\n",
      "Количество человек в каждой группе:\n",
      "   ExpId  EventTimestamp\n",
      "0    246           66582\n",
      "1    247           65712\n",
      "2    248           71929\n"
     ]
    }
   ],
   "source": [
    "print('\\033[1m' +'РЕЗУЛЬТАТЫ:'+'\\033[0m')   \n",
    "print('Количество человек в каждой группе:')   \n",
    "print(logs_exp.groupby('ExpId',as_index=False).agg({'EventTimestamp':'nunique'}))"
   ]
  },
  {
   "cell_type": "markdown",
   "id": "coordinate-classic",
   "metadata": {},
   "source": [
    "   - Для проверирки корректности механизмов распределения пользователей по группам проверяется равны ли статистические критерии  между выборками 246 и 247.\n",
    "   - Используя данные из А1/A2 тестирования проверяется гипотиза о статистически не значимом различии долей для типов событий в воронке, вокруг которой, формируетя: H0 - нулевая гипотиза говорит, что 'конверсия' группы А1 имеет статистически незначимое отклонение с конверсией группы A2 и альтернативнвая Н1, говорящая, что конверсия групп статистически различна. Для проверки статистической значимости для независимых выборок используется двусторонний метод Манна-Уитни."
   ]
  },
  {
   "cell_type": "code",
   "execution_count": 40,
   "id": "separate-omega",
   "metadata": {},
   "outputs": [
    {
     "name": "stdout",
     "output_type": "stream",
     "text": [
      "\u001b[1mРЕЗУЛЬТАТЫ:\u001b[0m\n",
      "\u001b[1mПроверка гипотиз равенства \"конверсий\" по шагам воронки, между группами 246 и 247\u001b[0m\n",
      "Стат значимость групп = 0.586\n",
      "Проверка стат. значимости равенства для события MainScreenAppear\n",
      "Нулевая гипотеза о статистически незначимых различиях между конверсий групп не отвергается\n",
      "\u001b[1m------------------------------------------------------------\u001b[0m\n",
      "Стат значимость групп = 0.323\n",
      "Проверка стат. значимости равенства для события OffersScreenAppear\n",
      "Нулевая гипотеза о статистически незначимых различиях между конверсий групп не отвергается\n",
      "\u001b[1m------------------------------------------------------------\u001b[0m\n",
      "Стат значимость групп = 0.198\n",
      "Проверка стат. значимости равенства для события CartScreenAppear\n",
      "Нулевая гипотеза о статистически незначимых различиях между конверсий групп не отвергается\n",
      "\u001b[1m------------------------------------------------------------\u001b[0m\n",
      "Стат значимость групп = 0.109\n",
      "Проверка стат. значимости равенства для события PaymentScreenSuccessful\n",
      "Нулевая гипотеза о статистически незначимых различиях между конверсий групп не отвергается\n",
      "\u001b[1m------------------------------------------------------------\u001b[0m\n",
      "Число пользователей совершивших самое попуулярное событие для группы 246 =  2456\n",
      "Число пользователей совершивших самое попуулярное событие для группы 247 =  2482\n"
     ]
    }
   ],
   "source": [
    "value_246 = logs_exp.query('ExpId==246')\n",
    "value_247 = logs_exp.query('ExpId==247')\n",
    "#получение df разметки событий для групп\n",
    "df_246 = df_group_retantion(value_246)\n",
    "df_247 = df_group_retantion(value_247)\n",
    "print('\\033[1m' +'РЕЗУЛЬТАТЫ:'+'\\033[0m') \n",
    "#стат проверка гипотиз\n",
    "print('\\033[1m' +'Проверка гипотиз равенства \"конверсий\" по шагам воронки, между группами 246 и 247'+'\\033[0m')\n",
    "result_hypophes(df_246,df_247,1)\n",
    "#проверка популярного события\n",
    "for key,value in {246:value_246,247:value_247}.items():\n",
    "    popular = value.query('EventName==\"MainScreenAppear\"')['DeviceIDHash'].nunique()\n",
    "    print(f\"Число пользователей совершивших самое попуулярное событие для группы {key} =  {popular}\")\n"
   ]
  },
  {
   "cell_type": "markdown",
   "id": "concrete-devon",
   "metadata": {},
   "source": [
    "- Проверка по критерию Мана-Уитни показала, что значимых статистических различий для групп 246 и 247 в событиях нет. По количеству пользователей совершивших самое популярное действие MainScreenAppear различие составило 26 человек, это примерно чуть меньше одного процента для обоих групп. Следовательно А/А тест настроин верно. "
   ]
  },
  {
   "cell_type": "markdown",
   "id": "unable-disposal",
   "metadata": {},
   "source": [
    "Используя данные из А1/A2/B тестирования проверяется гипотиза о статистически не значимом различии долей для типов событий в воронке, вокруг которой, формируетя: H0 - нулевая гипотиза говорит, что 'конверсия' группы B имеет статистически незначимое отклонение с конверсией групп A1 и A2 и альтернативнвая Н1, говорящая, что конверсия групп статистически различна. Для проверки статистической значимости для независимых выборок используется двусторонний метод Манна-Уитни. Для корректировки уровня значимости для теста используется поправка поправка Холма — Бонферрони."
   ]
  },
  {
   "cell_type": "code",
   "execution_count": 41,
   "id": "hollywood-safety",
   "metadata": {},
   "outputs": [
    {
     "name": "stdout",
     "output_type": "stream",
     "text": [
      "\u001b[1mРЕЗУЛЬТАТЫ:\u001b[0m\n",
      "\u001b[1mПроверка гипотиз равенства \"конверсий\" событий воронки для групп 247 и 248\u001b[0m\n",
      "Стат значимость групп = 0.763\n",
      "Проверка стат. значимости равенства для события MainScreenAppear\n",
      "Нулевая гипотеза о статистически незначимых различиях между конверсий групп не отвергается\n",
      "\u001b[1m------------------------------------------------------------\u001b[0m\n",
      "Стат значимость групп = 0.878\n",
      "Проверка стат. значимости равенства для события OffersScreenAppear\n",
      "Нулевая гипотеза о статистически незначимых различиях между конверсий групп не отвергается\n",
      "\u001b[1m------------------------------------------------------------\u001b[0m\n",
      "Стат значимость групп = 0.741\n",
      "Проверка стат. значимости равенства для события CartScreenAppear\n",
      "Нулевая гипотеза о статистически незначимых различиях между конверсий групп не отвергается\n",
      "\u001b[1m------------------------------------------------------------\u001b[0m\n",
      "Стат значимость групп = 0.676\n",
      "Проверка стат. значимости равенства для события PaymentScreenSuccessful\n",
      "Нулевая гипотеза о статистически незначимых различиях между конверсий групп не отвергается\n",
      "\u001b[1m------------------------------------------------------------\u001b[0m\n",
      "\n",
      "\u001b[1mПроверка гипотиз равенства \"конверсий\" событий воронки для групп 246 и 248\u001b[0m\n",
      "Стат значимость групп = 0.398\n",
      "Проверка стат. значимости равенства для события MainScreenAppear\n",
      "Нулевая гипотеза о статистически незначимых различиях между конверсий групп не отвергается\n",
      "\u001b[1m------------------------------------------------------------\u001b[0m\n",
      "Стат значимость групп = 0.253\n",
      "Проверка стат. значимости равенства для события OffersScreenAppear\n",
      "Нулевая гипотеза о статистически незначимых различиях между конверсий групп не отвергается\n",
      "\u001b[1m------------------------------------------------------------\u001b[0m\n",
      "Стат значимость групп = 0.105\n",
      "Проверка стат. значимости равенства для события CartScreenAppear\n",
      "Нулевая гипотеза о статистически незначимых различиях между конверсий групп не отвергается\n",
      "\u001b[1m------------------------------------------------------------\u001b[0m\n",
      "Стат значимость групп = 0.234\n",
      "Проверка стат. значимости равенства для события PaymentScreenSuccessful\n",
      "Нулевая гипотеза о статистически незначимых различиях между конверсий групп не отвергается\n",
      "\u001b[1m------------------------------------------------------------\u001b[0m\n",
      "\n",
      "\u001b[1mПроверка гипотиз равенства \"конверсий\" событий воронки для групп 248 и совмещенных 246 и 247\u001b[0m\n",
      "Стат значимость групп = 0.507\n",
      "Проверка стат. значимости равенства для события MainScreenAppear\n",
      "Нулевая гипотеза о статистически незначимых различиях между конверсий групп не отвергается\n",
      "\u001b[1m------------------------------------------------------------\u001b[0m\n",
      "Стат значимость групп = 0.456\n",
      "Проверка стат. значимости равенства для события OffersScreenAppear\n",
      "Нулевая гипотеза о статистически незначимых различиях между конверсий групп не отвергается\n",
      "\u001b[1m------------------------------------------------------------\u001b[0m\n",
      "Стат значимость групп = 0.261\n",
      "Проверка стат. значимости равенства для события CartScreenAppear\n",
      "Нулевая гипотеза о статистически незначимых различиях между конверсий групп не отвергается\n",
      "\u001b[1m------------------------------------------------------------\u001b[0m\n",
      "Стат значимость групп = 0.658\n",
      "Проверка стат. значимости равенства для события PaymentScreenSuccessful\n",
      "Нулевая гипотеза о статистически незначимых различиях между конверсий групп не отвергается\n",
      "\u001b[1m------------------------------------------------------------\u001b[0m\n"
     ]
    }
   ],
   "source": [
    "value_248 = logs_exp.query('ExpId==248')\n",
    "df_248 = df_group_retantion(value_248)\n",
    "value_246_247 = logs_exp.query('ExpId!=248')\n",
    "df_246_247 = df_group_retantion(value_246_247)\n",
    "print('\\033[1m' +'РЕЗУЛЬТАТЫ:'+'\\033[0m') \n",
    "#стат проверка гипотиз\n",
    "print('\\033[1m'+'Проверка гипотиз равенства \"конверсий\" событий воронки для групп 247 и 248'+'\\033[0m')\n",
    "result_hypophes(df_247,df_248,2)\n",
    "print()\n",
    "print('\\033[1m'+'Проверка гипотиз равенства \"конверсий\" событий воронки для групп 246 и 248'+'\\033[0m')\n",
    "result_hypophes(df_246,df_248,2)\n",
    "print()\n",
    "print('\\033[1m'+'Проверка гипотиз равенства \"конверсий\" событий воронки для групп 248 и совмещенных 246 и 247'+'\\033[0m')\n",
    "result_hypophes(df_246_247,df_248,1)"
   ]
  },
  {
   "cell_type": "markdown",
   "id": "attempted-equilibrium",
   "metadata": {},
   "source": [
    "- При проверке стат. гипотиз выше, был выбран уровень значимости равный 0.05, однако для проверки множества гипотиз, к нему применяется поправка Холма — Бонферрони (a/m , где m = количество тестируемых гипотез), Всего было проведено 4(A/A, A1/B A2/B, A1+A2/B) проверки стат. гипотизы по каждому действию пользователя, итого 16 проверок.\n",
    "- При  уровне значимости 0.1 каждый десятый раз можно получать ложный результат. Стоит применить более низкий уровень значимости для того, чтобы снизить вероятность ошибки. Однако по полученным значениям pvalue заметно, что не один из тестов также, не отвергнет нулевую гипотезу. "
   ]
  },
  {
   "cell_type": "markdown",
   "id": "realistic-brunswick",
   "metadata": {},
   "source": [
    "### ВЫВОДЫ:\n",
    "    - В результате сравнения измененной группы 248 с контрольными группами 246 и 247, статестически значемых различий не было обнаружено.Следовательно изменение шрифта не привнесли ни отрицательных, ни положительных изменений активности пользователей на всём пути воронки."
   ]
  },
  {
   "cell_type": "code",
   "execution_count": null,
   "id": "million-planning",
   "metadata": {},
   "outputs": [],
   "source": []
  }
 ],
 "metadata": {
  "kernelspec": {
   "display_name": "Python 3",
   "language": "python",
   "name": "python3"
  },
  "language_info": {
   "codemirror_mode": {
    "name": "ipython",
    "version": 3
   },
   "file_extension": ".py",
   "mimetype": "text/x-python",
   "name": "python",
   "nbconvert_exporter": "python",
   "pygments_lexer": "ipython3",
   "version": "3.7.4"
  },
  "toc": {
   "base_numbering": 1,
   "nav_menu": {},
   "number_sections": true,
   "sideBar": true,
   "skip_h1_title": true,
   "title_cell": "Table of Contents",
   "title_sidebar": "Contents",
   "toc_cell": false,
   "toc_position": {},
   "toc_section_display": true,
   "toc_window_display": false
  }
 },
 "nbformat": 4,
 "nbformat_minor": 5
}
