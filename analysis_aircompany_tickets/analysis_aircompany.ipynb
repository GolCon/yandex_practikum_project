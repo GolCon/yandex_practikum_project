{
 "cells": [
  {
   "cell_type": "markdown",
   "metadata": {},
   "source": [
    "## Аналитика в авиакомпании 'F9'"
   ]
  },
  {
   "cell_type": "markdown",
   "metadata": {},
   "source": [
    "Краткое описание данных:\n",
    "\n",
    "query_1:\n",
    "    \n",
    "    model — модели самолета\n",
    "    flights_amount — количество рейсов для каждой модели самолетов model в сентябре 2018 года\n",
    "    \n",
    "query_3:  \n",
    "\n",
    "    city — городах\n",
    "    average_flights — среднем количестве рейсов, прибывающих в город city за день в августе 2018 года"
   ]
  },
  {
   "cell_type": "markdown",
   "metadata": {},
   "source": [
    "### Шаг 4. Аналитика средствами Python\n"
   ]
  },
  {
   "cell_type": "code",
   "execution_count": 1,
   "metadata": {},
   "outputs": [],
   "source": [
    "import pandas as pd\n",
    "import matplotlib.pyplot as plt"
   ]
  },
  {
   "cell_type": "markdown",
   "metadata": {},
   "source": [
    "- Загружаемые таблицы представляют собой данные о среднем количестве рейсов в день, прибывающих в город city в августе 2018 года и данные о количестве рейсов для каждой модели самолетов, за тот же период."
   ]
  },
  {
   "cell_type": "code",
   "execution_count": 2,
   "metadata": {},
   "outputs": [],
   "source": [
    "try:\n",
    "    df1=pd.read_csv('C:\\projects\\query_1.csv')\n",
    "    df2=pd.read_csv('C:\\projects\\query_3.csv')\n",
    "except:\n",
    "    df1=pd.read_csv(r'/datasets/query_1.csv')\n",
    "    df2=pd.read_csv(r'/datasets/query_3.csv')"
   ]
  },
  {
   "cell_type": "code",
   "execution_count": 3,
   "metadata": {},
   "outputs": [
    {
     "name": "stdout",
     "output_type": "stream",
     "text": [
      "                 model  flights_amount\n",
      "0      Airbus A319-100             607\n",
      "1      Airbus A321-200             960\n",
      "2       Boeing 737-300             630\n",
      "3       Boeing 767-300             600\n",
      "4       Boeing 777-300             300\n",
      "5   Bombardier CRJ-200            4446\n",
      "6   Cessna 208 Caravan            4557\n",
      "7  Sukhoi SuperJet-100            4185\n",
      "-------------------------------------------\n",
      "<class 'pandas.core.frame.DataFrame'>\n",
      "RangeIndex: 8 entries, 0 to 7\n",
      "Data columns (total 2 columns):\n",
      "model             8 non-null object\n",
      "flights_amount    8 non-null int64\n",
      "dtypes: int64(1), object(1)\n",
      "memory usage: 256.0+ bytes\n",
      "___________________________________________\n",
      "               city  average_flights\n",
      "0            Абакан         3.870968\n",
      "1           Анадырь         1.000000\n",
      "2             Анапа         2.161290\n",
      "3       Архангельск         5.354839\n",
      "4         Астрахань         2.451613\n",
      "..              ...              ...\n",
      "96             Чита         1.580645\n",
      "97           Элиста         4.870968\n",
      "98   Южно-Сахалинск         4.290323\n",
      "99           Якутск         2.741935\n",
      "100       Ярославль         1.322581\n",
      "\n",
      "[101 rows x 2 columns]\n",
      "-------------------------------------------\n",
      "<class 'pandas.core.frame.DataFrame'>\n",
      "RangeIndex: 101 entries, 0 to 100\n",
      "Data columns (total 2 columns):\n",
      "city               101 non-null object\n",
      "average_flights    101 non-null float64\n",
      "dtypes: float64(1), object(1)\n",
      "memory usage: 1.7+ KB\n",
      "___________________________________________\n"
     ]
    }
   ],
   "source": [
    "for i in [df1,df2]:\n",
    "    print(i)\n",
    "    print('-------------------------------------------')\n",
    "    i.info()\n",
    "    print('___________________________________________')"
   ]
  },
  {
   "cell_type": "markdown",
   "metadata": {},
   "source": [
    " - Предобработка данных не требуется, тк пропусков не обнаружено, типы данных так же корректны. \n",
    " - В таблице с моделями самолетов, заметна существенная разница в столбце количества полетов, причиной такой особенности данных моет быть, что airbus и boing являются крупными судами из чего следует:\n",
    "     - не каждая частная компания может позволить себе приобретение и обслуживание подобного судна, поэтому малых судов, просто больше.\n",
    "     - перелеты на большие расстояния и сервесное обслуживание в аэропорту занимают больше времени, тогда как мелкие судна могут летать горазда чаще."
   ]
  },
  {
   "cell_type": "markdown",
   "metadata": {},
   "source": [
    "#### топ-10 городов по количеству рейсов и популярность самолетных моделей."
   ]
  },
  {
   "cell_type": "code",
   "execution_count": 4,
   "metadata": {},
   "outputs": [
    {
     "name": "stdout",
     "output_type": "stream",
     "text": [
      "               city  average_flights\n",
      "43           Москва       129.774194\n",
      "70  Санкт-Петербург        31.161290\n",
      "54      Новосибирск        17.322581\n",
      "33       Красноярск        11.580645\n",
      "20     Екатеринбург        11.322581\n",
      "67   Ростов-на-Дону        10.193548\n",
      "63            Пермь        10.129032\n",
      "10           Брянск        10.000000\n",
      "74             Сочи         9.612903\n",
      "84        Ульяновск         9.580645\n"
     ]
    },
    {
     "data": {
      "image/png": "[encoded data removed]",
      "text/plain": [
       "<Figure size 864x216 with 1 Axes>"
      ]
     },
     "metadata": {
      "needs_background": "light"
     },
     "output_type": "display_data"
    },
    {
     "data": {
      "text/plain": [
       "<matplotlib.axes._subplots.AxesSubplot at 0x7fd7da785d10>"
      ]
     },
     "execution_count": 4,
     "metadata": {},
     "output_type": "execute_result"
    },
    {
     "data": {
      "image/png": "[encoded data removed]",
      "text/plain": [
       "<Figure size 864x216 with 1 Axes>"
      ]
     },
     "metadata": {
      "needs_background": "light"
     },
     "output_type": "display_data"
    }
   ],
   "source": [
    "top_races = df2.sort_values('average_flights', ascending=False).head(10)\n",
    "print(top_races)\n",
    "top_races.plot.bar(x='city',figsize=(12,3))\n",
    "plt.show()\n",
    "df1.sort_values('flights_amount', ascending=False).plot.bar(x='model',figsize=(12,3))"
   ]
  },
  {
   "cell_type": "markdown",
   "metadata": {},
   "source": [
    "### Вывод:"
   ]
  },
  {
   "cell_type": "markdown",
   "metadata": {},
   "source": [
    "- Из диаграммы ТОПа городов по количеству рейсов:\n",
    "\n",
    "    - Самым популярным городом в количестве рейсов за месяц, в августе 2018 года является Москва. (август - конец отпусков, как никак)  Если не брать во внимание, что Москва является столицей, она также имеет интернациональные рейсы, поэтому для других городов страны, столица может быть пересадочным пунктом для курортных или деловых рейсов.\n",
    "    - Если рассматривать в рамках страны то Москва будет скорей являться перегруженным выбросом и первенство среди переферийных от столицы городов возьмет Санкт-Петербург.\n",
    "    \n",
    "    \n",
    "- Из диаграммы популярности самолетных моделей:\n",
    "\n",
    "    - Самолеты с малых размеров и небольшим количеством мест в сравнением с моделями airbus и boing, используются в авиации гораздо чаще, чем крупные лайнеры. Это позволяет совершать дешевые перелеты, как на короткие так и впролне на сапостовимые расстояния гораздо чаще."
   ]
  },
  {
   "cell_type": "markdown",
   "metadata": {},
   "source": [
    "# Общий вывод:\n",
    "1. Используя данные, спарсенные с сайта https://code.s3.yandex.net/learning-materials/data-analyst/festival_news/index.html о проводимых вестивалях и SQL запросы данных авиакомпаний, явной зависимости между проведением фестиваля и количеством купленных билетов на самолет не обнаружено. Однако в сравнении с соседними неделями, когда фестивали не проводятся, количество билетов незначительно занижено (от 300 до 8000), вполне возможно, что участники феста организовываются и берут в аренду атобус, это предположение требует дльнейшего, более подробного анализа и вполне вероятно на этом можно сформировать целевое предложение. \n",
    "2. Из анализа остальных данных можно сказать, что предпочтения пассажиров, отдано мелким судам(а они выбирают!?) и чаще всего используются аэропорты Москвы для совершения перелетов.\n",
    "3. Для более подробного анализа следует провести аналитику для топа аэропортов и выявить популярные направления перелета и необходимоть крупных или мелких судов."
   ]
  }
 ],
 "metadata": {
  "kernelspec": {
   "display_name": "Python 3",
   "language": "python",
   "name": "python3"
  },
  "language_info": {
   "codemirror_mode": {
    "name": "ipython",
    "version": 3
   },
   "file_extension": ".py",
   "mimetype": "text/x-python",
   "name": "python",
   "nbconvert_exporter": "python",
   "pygments_lexer": "ipython3",
   "version": "3.7.4"
  },
  "toc": {
   "base_numbering": 1,
   "nav_menu": {},
   "number_sections": true,
   "sideBar": true,
   "skip_h1_title": false,
   "title_cell": "Table of Contents",
   "title_sidebar": "Contents",
   "toc_cell": false,
   "toc_position": {},
   "toc_section_display": true,
   "toc_window_display": false
  }
 },
 "nbformat": 4,
 "nbformat_minor": 2
}
